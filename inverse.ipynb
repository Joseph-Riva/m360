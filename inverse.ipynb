{
 "cells": [
  {
   "cell_type": "markdown",
   "metadata": {},
   "source": [
    "# Multiplicative inverse mod n\n",
    "inverse of a % n\n",
    "\n",
    "$n=x*a + y*n$\n",
    "\n",
    "$a=u*a+v*n$\n",
    "q=a//n\n",
    "\n",
    "next: \n",
    "\n",
    "$a=u*a+v*n$\n",
    "\n",
    "$a\\:mod\\:n=(x-q*u)*a + (y-q*v)*n$\n",
    "\n",
    "until a % n == 0"
   ]
  },
  {
   "cell_type": "code",
   "execution_count": 2,
   "metadata": {},
   "outputs": [],
   "source": [
    "def gcd(a, n, u=1, v=0, x=0, y=1, inv=False):\n",
    "    '''computes the multiplicative inverse of a mod n'''\n",
    "    if(a > n):\n",
    "        return gcd(n,a)\n",
    "    assert a <= n\n",
    "    #print(f'{n}={x}*{a} + {y}*{n}')\n",
    "    return gcd_rec(a, a, n, u, v, x, y, inv)\n",
    "    \n",
    "    \n",
    "def gcd_rec(r, a, n, u=1, v=0, x=0, y=1, inv=False):\n",
    "    print(f'{a}={x}*{a} + {y}*{n}')\n",
    "    print(f'{r}={u}*{a} + {v}*{n}\\n')\n",
    "    if a % n == 0 and not inv:\n",
    "        print(f'done with gcd: {a}')\n",
    "        return a\n",
    "    elif a % n == 1 and inv:\n",
    "        print(f'done with inverse: {u}')\n",
    "        return u\n",
    "    #q=quotient\n",
    "    q = a//n\n",
    "    #r=remainder\n",
    "    return gcd_rec(n%a, a, n, u, v, x-q*u, y-q*v, inv)"
   ]
  },
  {
   "cell_type": "code",
   "execution_count": null,
   "metadata": {},
   "outputs": [],
   "source": [
    "if __name__==\"__main__\":\n",
    "    "
   ]
  }
 ],
 "metadata": {
  "kernelspec": {
   "display_name": "Python 3",
   "language": "python",
   "name": "python3"
  },
  "language_info": {
   "codemirror_mode": {
    "name": "ipython",
    "version": 3
   },
   "file_extension": ".py",
   "mimetype": "text/x-python",
   "name": "python",
   "nbconvert_exporter": "python",
   "pygments_lexer": "ipython3",
   "version": "3.7.6"
  }
 },
 "nbformat": 4,
 "nbformat_minor": 4
}
