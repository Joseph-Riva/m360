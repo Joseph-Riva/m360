{
 "cells": [
  {
   "cell_type": "markdown",
   "id": "north-shame",
   "metadata": {},
   "source": [
    "# Zero Knowledge Proofs"
   ]
  },
  {
   "cell_type": "markdown",
   "id": "embedded-meeting",
   "metadata": {},
   "source": [
    "$n = p*q$"
   ]
  },
  {
   "cell_type": "code",
   "execution_count": 1,
   "id": "recent-authority",
   "metadata": {},
   "outputs": [],
   "source": [
    "n = 1549411"
   ]
  },
  {
   "cell_type": "markdown",
   "id": "hairy-balloon",
   "metadata": {},
   "source": [
    "$x=s^2\\:mod\\:n$"
   ]
  },
  {
   "cell_type": "code",
   "execution_count": 2,
   "id": "operating-warner",
   "metadata": {},
   "outputs": [],
   "source": [
    "x = 1075922"
   ]
  },
  {
   "cell_type": "markdown",
   "id": "preceding-nevada",
   "metadata": {},
   "source": [
    "$y=u^2\\:mod\\:n$"
   ]
  },
  {
   "cell_type": "code",
   "execution_count": 3,
   "id": "functioning-certification",
   "metadata": {},
   "outputs": [],
   "source": [
    "y=1361157"
   ]
  },
  {
   "cell_type": "markdown",
   "id": "armed-moderator",
   "metadata": {},
   "source": [
    "## Step 2 - Bob responds with {0,1}"
   ]
  },
  {
   "cell_type": "code",
   "execution_count": 4,
   "id": "defined-negative",
   "metadata": {},
   "outputs": [],
   "source": [
    "b=0"
   ]
  },
  {
   "cell_type": "markdown",
   "id": "adaptive-manhattan",
   "metadata": {},
   "source": [
    "## Step 3 - Alice responds accordingly\n",
    "if b==0:\n",
    "    $z=u$\n",
    "    \n",
    "else:\n",
    "    $z=s*u$"
   ]
  },
  {
   "cell_type": "code",
   "execution_count": 1,
   "id": "stretch-committee",
   "metadata": {},
   "outputs": [],
   "source": [
    "z = 4467"
   ]
  },
  {
   "cell_type": "markdown",
   "id": "reflected-variance",
   "metadata": {},
   "source": [
    "## Step 4 - Bob verifies\n",
    "if b==0:\n",
    "    $z^2\\equiv y\\:mod\\:n$\n",
    "    \n",
    "else:\n",
    "    $z^2\\equiv x*y\\:mod\\:n$"
   ]
  },
  {
   "cell_type": "code",
   "execution_count": 2,
   "id": "mediterranean-diploma",
   "metadata": {},
   "outputs": [
    {
     "ename": "NameError",
     "evalue": "name 'b' is not defined",
     "output_type": "error",
     "traceback": [
      "\u001b[0;31m---------------------------------------------------------------------------\u001b[0m",
      "\u001b[0;31mNameError\u001b[0m                                 Traceback (most recent call last)",
      "\u001b[0;32m<ipython-input-2-538f540441c8>\u001b[0m in \u001b[0;36m<module>\u001b[0;34m\u001b[0m\n\u001b[0;32m----> 1\u001b[0;31m \u001b[0;32mif\u001b[0m \u001b[0mb\u001b[0m\u001b[0;34m==\u001b[0m\u001b[0;36m0\u001b[0m\u001b[0;34m:\u001b[0m\u001b[0;34m\u001b[0m\u001b[0;34m\u001b[0m\u001b[0m\n\u001b[0m\u001b[1;32m      2\u001b[0m     \u001b[0mprint\u001b[0m\u001b[0;34m(\u001b[0m\u001b[0;34m\"b is 0, Bob responds: \"\u001b[0m\u001b[0;34m,\u001b[0m\u001b[0mpow\u001b[0m\u001b[0;34m(\u001b[0m\u001b[0mz\u001b[0m\u001b[0;34m,\u001b[0m\u001b[0;36m2\u001b[0m\u001b[0;34m,\u001b[0m \u001b[0mn\u001b[0m\u001b[0;34m)\u001b[0m \u001b[0;34m==\u001b[0m \u001b[0;34m(\u001b[0m\u001b[0my\u001b[0m \u001b[0;34m%\u001b[0m \u001b[0mn\u001b[0m\u001b[0;34m)\u001b[0m\u001b[0;34m)\u001b[0m\u001b[0;34m\u001b[0m\u001b[0;34m\u001b[0m\u001b[0m\n\u001b[1;32m      3\u001b[0m \u001b[0;32melse\u001b[0m\u001b[0;34m:\u001b[0m\u001b[0;34m\u001b[0m\u001b[0;34m\u001b[0m\u001b[0m\n\u001b[1;32m      4\u001b[0m     \u001b[0mprint\u001b[0m\u001b[0;34m(\u001b[0m\u001b[0;34m\"b is 1, Bob responds: \"\u001b[0m\u001b[0;34m,\u001b[0m \u001b[0mpow\u001b[0m\u001b[0;34m(\u001b[0m\u001b[0mz\u001b[0m\u001b[0;34m,\u001b[0m\u001b[0;36m2\u001b[0m\u001b[0;34m,\u001b[0m \u001b[0mn\u001b[0m\u001b[0;34m)\u001b[0m \u001b[0;34m==\u001b[0m \u001b[0;34m(\u001b[0m\u001b[0mx\u001b[0m\u001b[0;34m*\u001b[0m\u001b[0my\u001b[0m \u001b[0;34m%\u001b[0m \u001b[0mn\u001b[0m\u001b[0;34m)\u001b[0m\u001b[0;34m)\u001b[0m\u001b[0;34m\u001b[0m\u001b[0;34m\u001b[0m\u001b[0m\n",
      "\u001b[0;31mNameError\u001b[0m: name 'b' is not defined"
     ]
    }
   ],
   "source": [
    "if b==0:\n",
    "    print(\"b is 0, Bob responds: \",pow(z,2, n) == (y % n))\n",
    "else:\n",
    "    print(\"b is 1, Bob responds: \", pow(z,2, n) == (x*y % n))"
   ]
  },
  {
   "cell_type": "markdown",
   "id": "occasional-butter",
   "metadata": {},
   "source": [
    "# Trials"
   ]
  },
  {
   "cell_type": "code",
   "execution_count": 3,
   "id": "cognitive-infrared",
   "metadata": {},
   "outputs": [],
   "source": [
    "n = 1549411\n",
    "x = 1075922"
   ]
  },
  {
   "cell_type": "code",
   "execution_count": 4,
   "id": "amino-forum",
   "metadata": {},
   "outputs": [
    {
     "name": "stdout",
     "output_type": "stream",
     "text": [
      "b is 0, Bob responds:  False\n"
     ]
    }
   ],
   "source": [
    "# Trial 0\n",
    "\n",
    "y = x**2 % n\n",
    "b = 0\n",
    "z = 4467\n",
    "if b==0:\n",
    "    print(\"b is 0, Bob responds: \",pow(z,2, n) == (y % n))\n",
    "else:\n",
    "    print(\"b is 1, Bob responds: \", pow(z,2, n) == (x*y % n))"
   ]
  },
  {
   "cell_type": "code",
   "execution_count": 5,
   "id": "spoken-singles",
   "metadata": {},
   "outputs": [
    {
     "name": "stdout",
     "output_type": "stream",
     "text": [
      "b is 0, Bob responds:  True\n"
     ]
    }
   ],
   "source": [
    "# Trial 1\n",
    "\n",
    "y = 1361157\n",
    "b = 0\n",
    "z = 4467\n",
    "if b==0:\n",
    "    print(\"b is 0, Bob responds: \",pow(z,2, n) == (y % n))\n",
    "else:\n",
    "    print(\"b is 1, Bob responds: \", pow(z,2, n) == (x*y % n))"
   ]
  },
  {
   "cell_type": "code",
   "execution_count": 6,
   "id": "binding-minority",
   "metadata": {},
   "outputs": [
    {
     "name": "stdout",
     "output_type": "stream",
     "text": [
      "b is 1, Bob responds:  True\n"
     ]
    }
   ],
   "source": [
    "# Trial 2\n",
    "y = 743044\n",
    "b = 1\n",
    "z = 257646\n",
    "if b==0:\n",
    "    print(\"b is 0, Bob responds: \",pow(z,2, n) == (y % n))\n",
    "else:\n",
    "    print(\"b is 1, Bob responds: \", pow(z,2, n) == (x*y % n))"
   ]
  },
  {
   "cell_type": "code",
   "execution_count": 10,
   "id": "proper-tomato",
   "metadata": {},
   "outputs": [
    {
     "name": "stdout",
     "output_type": "stream",
     "text": [
      "b is 1, Bob responds:  True\n"
     ]
    }
   ],
   "source": [
    "# Trial 3\n",
    "y = 1485354\n",
    "b = 1\n",
    "z = 811105\n",
    "if b==0:\n",
    "    print(\"b is 0, Bob responds: \",pow(z,2, n) == (y % n))\n",
    "else:\n",
    "    print(\"b is 1, Bob responds: \", pow(z,2, n) == (x*y % n))"
   ]
  },
  {
   "cell_type": "code",
   "execution_count": 11,
   "id": "special-obligation",
   "metadata": {},
   "outputs": [
    {
     "name": "stdout",
     "output_type": "stream",
     "text": [
      "b is 0, Bob responds:  True\n"
     ]
    }
   ],
   "source": [
    "# Trial 4\n",
    "y = 752906\n",
    "b = 0\n",
    "z = 66399\n",
    "if b==0:\n",
    "    print(\"b is 0, Bob responds: \",pow(z,2, n) == (y % n))\n",
    "else:\n",
    "    print(\"b is 1, Bob responds: \", pow(z,2, n) == (x*y % n))"
   ]
  },
  {
   "cell_type": "code",
   "execution_count": 12,
   "id": "quality-jersey",
   "metadata": {},
   "outputs": [
    {
     "name": "stdout",
     "output_type": "stream",
     "text": [
      "b is 0, Bob responds:  False\n"
     ]
    }
   ],
   "source": [
    "# Trial 5\n",
    "y = 1394003\n",
    "b = 0\n",
    "z = 88324\n",
    "if b==0:\n",
    "    print(\"b is 0, Bob responds: \",pow(z,2, n) == (y % n))\n",
    "else:\n",
    "    print(\"b is 1, Bob responds: \", pow(z,2, n) == (x*y % n))"
   ]
  },
  {
   "cell_type": "markdown",
   "id": "criminal-checklist",
   "metadata": {},
   "source": [
    "# Chinese Remainder Theorem"
   ]
  },
  {
   "cell_type": "code",
   "execution_count": 6,
   "id": "prostate-victory",
   "metadata": {},
   "outputs": [
    {
     "name": "stdout",
     "output_type": "stream",
     "text": [
      "[[ 0. 15. 30. 10. 25.  5. 20.]\n",
      " [21.  1. 16. 31. 11. 26.  6.]\n",
      " [ 7. 22.  2. 17. 32. 12. 27.]\n",
      " [28.  8. 23.  3. 18. 33. 13.]\n",
      " [14. 29.  9. 24.  4. 19. 34.]]\n"
     ]
    }
   ],
   "source": [
    "# header = [f'{i:5}' for i in range(7)]\n",
    "\n",
    "# for num in header:\n",
    "#     print(num, end=' ')\n",
    "# print()\n",
    "# print(\"-\"*45)\n",
    "# for i in range(5):\n",
    "#     print(f'{i}|', end = '')\n",
    "#     for j in range(7):\n",
    "#         print(f'{(i % 5) * (j % 7):5}', end=' ')\n",
    "#     print()\n",
    "import numpy as np\n",
    "table = [[0 for i in range(7)] for j in range(5)]\n",
    "table = np.ones(shape=(5,7))\n",
    "for i in range(35):\n",
    "    table[i%5][i%7] = i \n",
    "print(table)"
   ]
  },
  {
   "cell_type": "code",
   "execution_count": 11,
   "id": "boring-perfume",
   "metadata": {},
   "outputs": [
    {
     "name": "stdout",
     "output_type": "stream",
     "text": [
      "i: 1 -> 19\n",
      "i: 2 -> 32\n",
      "i: 3 -> 45\n",
      "i: 4 -> 58\n",
      "i: 5 -> 71\n"
     ]
    }
   ],
   "source": [
    "for i in range(1, 6):\n",
    "    print(f'i: {i} -> {13*i + 6}')"
   ]
  },
  {
   "cell_type": "markdown",
   "id": "ancient-default",
   "metadata": {},
   "source": [
    "$$48 \\equiv x^2\\:mod\\:143 \\\\143= 11*13$$"
   ]
  },
  {
   "cell_type": "code",
   "execution_count": null,
   "id": "german-trunk",
   "metadata": {},
   "outputs": [],
   "source": []
  }
 ],
 "metadata": {
  "kernelspec": {
   "display_name": "Python 3",
   "language": "python",
   "name": "python3"
  },
  "language_info": {
   "codemirror_mode": {
    "name": "ipython",
    "version": 3
   },
   "file_extension": ".py",
   "mimetype": "text/x-python",
   "name": "python",
   "nbconvert_exporter": "python",
   "pygments_lexer": "ipython3",
   "version": "3.8.6"
  }
 },
 "nbformat": 4,
 "nbformat_minor": 5
}
