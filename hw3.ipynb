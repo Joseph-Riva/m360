{
 "cells": [
  {
   "cell_type": "markdown",
   "metadata": {},
   "source": [
    "# HW 3"
   ]
  },
  {
   "cell_type": "markdown",
   "metadata": {},
   "source": [
    "### Question 1"
   ]
  },
  {
   "cell_type": "code",
   "execution_count": 1,
   "metadata": {},
   "outputs": [
    {
     "name": "stdout",
     "output_type": "stream",
     "text": [
      "[(3, 1), (43, 1)]\n",
      "95\n",
      "2\n",
      "[(43, 1)]\n",
      "1995.0\n",
      "19\n",
      "[(19, 1)]\n"
     ]
    }
   ],
   "source": [
    "from scripts.factor import prime_factors\n",
    "# a \n",
    "print(prime_factors(129))\n",
    "print(190//2)\n",
    "print(191 % 3)\n",
    "print(prime_factors(43))\n",
    "print((190/2)*(42/2))\n",
    "print(191%43)\n",
    "print(prime_factors(19))"
   ]
  },
  {
   "cell_type": "code",
   "execution_count": 2,
   "metadata": {},
   "outputs": [
    {
     "name": "stdout",
     "output_type": "stream",
     "text": [
      "[(3, 1), (5, 1), (53, 1)]\n",
      "765\n",
      "19890.0\n"
     ]
    }
   ],
   "source": [
    "# b\n",
    "from scripts.factor import prime_factors\n",
    "print(prime_factors(795))\n",
    "print(1530//2)\n",
    "print(1530/2*(52/2))"
   ]
  },
  {
   "cell_type": "markdown",
   "metadata": {},
   "source": [
    "### Question 2"
   ]
  },
  {
   "cell_type": "code",
   "execution_count": 3,
   "metadata": {},
   "outputs": [
    {
     "name": "stdout",
     "output_type": "stream",
     "text": [
      "[(79, 1)]\n",
      "780\n",
      "38\n",
      "[(2, 1), (19, 1)]\n",
      "210.0\n"
     ]
    }
   ],
   "source": [
    "# a\n",
    "print(prime_factors(79))\n",
    "print(20*39)\n",
    "print(79%41)\n",
    "print(prime_factors(38))\n",
    "print((41**2-1)/8)"
   ]
  },
  {
   "cell_type": "code",
   "execution_count": 4,
   "metadata": {},
   "outputs": [
    {
     "name": "stdout",
     "output_type": "stream",
     "text": [
      "[(2, 2), (5, 2)]\n",
      "-1.0\n",
      "2\n",
      "[(547, 1)]\n"
     ]
    }
   ],
   "source": [
    "# b \n",
    "print(prime_factors(100))\n",
    "print((-1)**((547**2-1)/8))\n",
    "print(547%5)\n",
    "print(prime_factors(547))"
   ]
  },
  {
   "cell_type": "code",
   "execution_count": 5,
   "metadata": {},
   "outputs": [
    {
     "name": "stdout",
     "output_type": "stream",
     "text": [
      "[(461, 1)]\n",
      "48070\n",
      "42\n",
      "[(2, 1), (3, 1), (7, 1)]\n",
      "21945.0\n",
      "[(419, 1)]\n",
      "2\n",
      "627.0\n",
      "6\n",
      "6\n"
     ]
    }
   ],
   "source": [
    "# c\n",
    "print(prime_factors(461))\n",
    "print(230*209)\n",
    "print(461 % 419)\n",
    "print(prime_factors(42))\n",
    "print((419**2-1)/8)\n",
    "print(prime_factors(419))\n",
    "print(419 % 3)\n",
    "print((418/2)*(6/2))\n",
    "print(419%7)\n",
    "print(48//8)"
   ]
  },
  {
   "cell_type": "markdown",
   "metadata": {},
   "source": [
    "### Question 3"
   ]
  },
  {
   "cell_type": "markdown",
   "metadata": {},
   "source": [
    "##### Step 1 - Setting up\n",
    "$n = p*q$\n",
    "\n",
    "$x\\equiv s^2\\:mod\\:n$\n",
    "\n",
    "$y=u^2\\:mod\\:n$\n",
    "\n",
    "##### Step 2 - Bob chooses b=0 or b=1\n",
    "##### Step 3 - Alice responds accordingly\n",
    "if b==0:\n",
    "    $z=u$\n",
    "    \n",
    "else:\n",
    "    $z=s*u$\n",
    "##### Step 4 - Bob verifies\n",
    "if b==0:\n",
    "    $z^2\\equiv y\\:mod\\:n$\n",
    "    \n",
    "else:\n",
    "    $z^2\\equiv x*y\\:mod\\:n$"
   ]
  },
  {
   "cell_type": "markdown",
   "metadata": {},
   "source": [
    "#### a.)"
   ]
  },
  {
   "cell_type": "code",
   "execution_count": 20,
   "metadata": {},
   "outputs": [
    {
     "name": "stdout",
     "output_type": "stream",
     "text": [
      "trial: (b,u,y,z)\n"
     ]
    }
   ],
   "source": [
    "n = 58014043\n",
    "x = 18059241\n",
    "x_inv = pow(x, -1, n)\n",
    "\n",
    "b_vals = [0,1,1,0]\n",
    "u_vals = [15,2,3,30]\n",
    "z_vals = [u_vals[0], 3245, 78956, u_vals[3]]\n",
    "y_vals = [u_vals[0]**2, pow(z_vals[1],2,n)*x_inv % n,pow(z_vals[2],2,n)*x_inv % n,u_vals[3]**2]\n",
    "\n",
    "print(\"trial: (b,u,y,z)\")\n",
    "trials = list(zip(b_vals, u_vals, y_vals, z_vals))"
   ]
  },
  {
   "cell_type": "code",
   "execution_count": 21,
   "metadata": {},
   "outputs": [
    {
     "name": "stdout",
     "output_type": "stream",
     "text": [
      "Trial 0: b=  0, u= 15, y=225, z= 15\n",
      "Trial 1: b=  1, u=  2, y=57235916, z=3245\n",
      "Trial 2: b=  1, u=  3, y=14316805, z=78956\n",
      "Trial 3: b=  0, u= 30, y=900, z= 30\n",
      "\n",
      "Trial 0: b is 0, Bob responds:  True\n",
      "Trial 1: b is 1, Bob responds:  True\n",
      "Trial 2: b is 1, Bob responds:  True\n",
      "Trial 3: b is 0, Bob responds:  True\n"
     ]
    }
   ],
   "source": [
    "for i, (b, u, y, z) in enumerate(trials):\n",
    "    print(f'Trial {i}: b={b:3}, u={u:3}, y={y:3}, z={z:3}')\n",
    "print()\n",
    "trial_num = 0\n",
    "for b, u, y, z in trials:\n",
    "    if b==0:\n",
    "        print(f\"Trial {trial_num}: b is 0, Bob responds: \", pow(z,2, n) == (y % n))\n",
    "    else:\n",
    "        print(f\"Trial {trial_num}: b is 1, Bob responds: \", pow(z,2, n) == (x*y % n))\n",
    "    trial_num += 1"
   ]
  },
  {
   "cell_type": "markdown",
   "metadata": {},
   "source": [
    "#### b.)"
   ]
  },
  {
   "cell_type": "code",
   "execution_count": 8,
   "metadata": {},
   "outputs": [],
   "source": [
    "n = 58014043\n",
    "x = 8952064\n",
    "s = -1\n",
    "for i in range(n):\n",
    "    if pow(i, 2, n) == x:\n",
    "        s = i\n",
    "        break;"
   ]
  },
  {
   "cell_type": "code",
   "execution_count": 9,
   "metadata": {},
   "outputs": [
    {
     "data": {
      "text/plain": [
       "2992"
      ]
     },
     "execution_count": 9,
     "metadata": {},
     "output_type": "execute_result"
    }
   ],
   "source": [
    "s"
   ]
  },
  {
   "cell_type": "code",
   "execution_count": 10,
   "metadata": {},
   "outputs": [
    {
     "name": "stdout",
     "output_type": "stream",
     "text": [
      "trial: (b,u,y,z)\n"
     ]
    }
   ],
   "source": [
    "n = 58014043\n",
    "x = 8952064\n",
    "b_vals = [1,1,0,0]\n",
    "u_vals = [45,42,7,100]\n",
    "y_vals = [u**2 for u in u_vals]\n",
    "z_vals = [u_vals[i] if b==0 else s*u_vals[i] for i, b in enumerate(b_vals)]\n",
    "\n",
    "print(\"trial: (b,u,y,z)\")\n",
    "trials = list(zip(b_vals, u_vals, y_vals, z_vals))"
   ]
  },
  {
   "cell_type": "code",
   "execution_count": 11,
   "metadata": {},
   "outputs": [
    {
     "name": "stdout",
     "output_type": "stream",
     "text": [
      "Trial 0: b=  1, u= 45, y=2025, z=134640\n",
      "Trial 1: b=  1, u= 42, y=1764, z=125664\n",
      "Trial 2: b=  0, u=  7, y= 49, z=  7\n",
      "Trial 3: b=  0, u=100, y=10000, z=100\n",
      "\n",
      "Trial 0: b is 1, Bob responds:  True\n",
      "Trial 1: b is 1, Bob responds:  True\n",
      "Trial 2: b is 0, Bob responds:  True\n",
      "Trial 3: b is 0, Bob responds:  True\n"
     ]
    }
   ],
   "source": [
    "for i, (b, u, y, z) in enumerate(trials):\n",
    "    print(f'Trial {i}: b={b:3}, u={u:3}, y={y:3}, z={z:3}')\n",
    "print()\n",
    "trial_num = 0\n",
    "for b, u, y, z in trials:\n",
    "    if b==0:\n",
    "        print(f\"Trial {trial_num}: b is 0, Bob responds: \", pow(z,2, n) == (y % n))\n",
    "    else:\n",
    "        print(f\"Trial {trial_num}: b is 1, Bob responds: \", pow(z,2, n) == (x*y % n))\n",
    "    trial_num += 1"
   ]
  },
  {
   "cell_type": "markdown",
   "metadata": {},
   "source": [
    "#### Problem 4"
   ]
  },
  {
   "cell_type": "code",
   "execution_count": 12,
   "metadata": {},
   "outputs": [
    {
     "name": "stdout",
     "output_type": "stream",
     "text": [
      "[[ 0. 15.  9.  3. 18. 12.  6.]\n",
      " [ 7.  1. 16. 10.  4. 19. 13.]\n",
      " [14.  8.  2. 17. 11.  5. 20.]]\n"
     ]
    }
   ],
   "source": [
    "import numpy as np\n",
    "\n",
    "p = 3\n",
    "q = 7\n",
    "n = p*q\n",
    "table = np.ones(shape=(p,q))\n",
    "for i in range(n):\n",
    "    table[i%p][i%q] = i \n",
    "print(table)"
   ]
  },
  {
   "cell_type": "code",
   "execution_count": 13,
   "metadata": {},
   "outputs": [
    {
     "name": "stdout",
     "output_type": "stream",
     "text": [
      "0\n",
      "\n"
     ]
    }
   ],
   "source": [
    "a = 15\n",
    "print(15%3)\n",
    "print()"
   ]
  },
  {
   "cell_type": "code",
   "execution_count": 25,
   "metadata": {},
   "outputs": [],
   "source": [
    "# pseudo- code found at https://primes.utm.edu/glossary/page.php?sort=JacobiSymbol\n",
    "def jacobi(a, n):\n",
    "    j = 1\n",
    "    while a != 0:\n",
    "        while a % 2 == 0:\n",
    "            a = a/2\n",
    "            check = n % 8\n",
    "            if check == 3 or check == 5:\n",
    "                j = -j\n",
    "        a, n = n, a\n",
    "        check = a % 4\n",
    "        if check == 3 and (n % 4) == 3:\n",
    "            j == -j\n",
    "        a = a % n\n",
    "    if n == 1:\n",
    "        return j\n",
    "    return 0"
   ]
  },
  {
   "cell_type": "code",
   "execution_count": 15,
   "metadata": {},
   "outputs": [],
   "source": [
    "jac_table = np.ones(table.shape)\n",
    "for i in range(table.shape[0]):\n",
    "    for j in range(table.shape[1]):\n",
    "        jac_table[i][j] = jacobi(table[i][j], n)"
   ]
  },
  {
   "cell_type": "code",
   "execution_count": 16,
   "metadata": {},
   "outputs": [
    {
     "data": {
      "text/plain": [
       "array([[ 0.,  0.,  0.,  0.,  0.,  0.,  0.],\n",
       "       [ 0.,  1.,  1., -1.,  1., -1., -1.],\n",
       "       [ 0., -1., -1.,  1., -1.,  1.,  1.]])"
      ]
     },
     "execution_count": 16,
     "metadata": {},
     "output_type": "execute_result"
    }
   ],
   "source": [
    "jac_table"
   ]
  },
  {
   "cell_type": "code",
   "execution_count": 17,
   "metadata": {},
   "outputs": [],
   "source": [
    "def print_squares(p):\n",
    "    l = []\n",
    "    for i in range(0, p):\n",
    "        square = pow(i, 2, p)\n",
    "        pos_item = (i, square)\n",
    "        l.append(pos_item)\n",
    "    squares = set([item[1] for item in l])\n",
    "    print(f'squares mod {p}: {squares}\\n')\n",
    "    \n",
    "    square_roots = dict(zip(squares, []*len(squares)))\n",
    "    for num, square in l:\n",
    "        if not square_roots.get(square):\n",
    "            square_roots[square] = []\n",
    "        square_roots[square].append(num)\n",
    "\n",
    "    print('dict mapping squares --> list of square roots')\n",
    "    for square, roots in square_roots.items():\n",
    "        print(f'{square:2}: {roots}')"
   ]
  },
  {
   "cell_type": "code",
   "execution_count": 22,
   "metadata": {},
   "outputs": [
    {
     "name": "stdout",
     "output_type": "stream",
     "text": [
      "squares mod 7: {0, 1, 2, 4}\n",
      "\n",
      "dict mapping squares --> list of square roots\n",
      " 0: [0]\n",
      " 1: [1, 6]\n",
      " 4: [2, 5]\n",
      " 2: [3, 4]\n",
      "squares mod 3: {0, 1}\n",
      "\n",
      "dict mapping squares --> list of square roots\n",
      " 0: [0]\n",
      " 1: [1, 2]\n",
      "squares mod 21: {0, 1, 4, 7, 9, 15, 16, 18}\n",
      "\n",
      "dict mapping squares --> list of square roots\n",
      " 0: [0]\n",
      " 1: [1, 8, 13, 20]\n",
      " 4: [2, 5, 16, 19]\n",
      " 9: [3, 18]\n",
      "16: [4, 10, 11, 17]\n",
      "15: [6, 15]\n",
      " 7: [7, 14]\n",
      "18: [9, 12]\n"
     ]
    }
   ],
   "source": [
    "print_squares(7)\n",
    "print_squares(3)\n",
    "print_squares(21)"
   ]
  }
 ],
 "metadata": {
  "kernelspec": {
   "display_name": "Python 3",
   "language": "python",
   "name": "python3"
  },
  "language_info": {
   "codemirror_mode": {
    "name": "ipython",
    "version": 3
   },
   "file_extension": ".py",
   "mimetype": "text/x-python",
   "name": "python",
   "nbconvert_exporter": "python",
   "pygments_lexer": "ipython3",
   "version": "3.8.3"
  }
 },
 "nbformat": 4,
 "nbformat_minor": 5
}
