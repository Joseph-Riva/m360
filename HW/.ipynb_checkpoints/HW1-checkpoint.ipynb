{
 "cells": [
  {
   "cell_type": "code",
   "execution_count": null,
   "metadata": {},
   "outputs": [],
   "source": []
  },
  {
   "cell_type": "markdown",
   "metadata": {},
   "source": [
    "### Finding All Primitive Elements mod p"
   ]
  },
  {
   "cell_type": "code",
   "execution_count": null,
   "metadata": {},
   "outputs": [],
   "source": [
    "from random import randint\n",
    "def is_pe(a, factors, p):\n",
    "    is_pe = True \n",
    "    for factor, power in factors:\n",
    "        # print(f'factor: {factor}')\n",
    "        current_exponent = (p-1)//factor\n",
    "        # print(f'{a}**{current_exponent} mod {p}')\n",
    "        if pow_mod(a, current_exponent, p) == 1:\n",
    "            is_pe = False\n",
    "            break\n",
    "    return is_pe\n",
    "\n",
    "def get_pe(p):\n",
    "    # list of factors in format (factor, power)\n",
    "    factors = prime_factors(p-1)\n",
    "    found = False\n",
    "    \n",
    "    while not found:\n",
    "        a = randint(2, p-1)\n",
    "        if is_pe(a, factors, p):\n",
    "            return a\n",
    "    return None\n",
    "\n",
    "def get_all_pe(p):\n",
    "    # list of factors in format (factor, power)\n",
    "    factors = prime_factors(p-1)\n",
    "    all_pe = []\n",
    "    \n",
    "    a_s = [i for i in range(2,p-1)]\n",
    "    for a in a_s:\n",
    "        if is_pe(a, factors, p):\n",
    "            all_pe.append(a)\n",
    "    return all_pe"
   ]
  }
 ],
 "metadata": {
  "kernelspec": {
   "display_name": "Python 3",
   "language": "python",
   "name": "python3"
  },
  "language_info": {
   "codemirror_mode": {
    "name": "ipython",
    "version": 3
   },
   "file_extension": ".py",
   "mimetype": "text/x-python",
   "name": "python",
   "nbconvert_exporter": "python",
   "pygments_lexer": "ipython3",
   "version": "3.7.6"
  }
 },
 "nbformat": 4,
 "nbformat_minor": 4
}
