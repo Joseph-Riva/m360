{
 "cells": [
  {
   "cell_type": "markdown",
   "metadata": {},
   "source": [
    "### Helper Functions"
   ]
  },
  {
   "cell_type": "code",
   "execution_count": 2,
   "metadata": {},
   "outputs": [],
   "source": [
    "def pow_mod(base, exp, p=1, b=1, log=False):\n",
    "    '''computes base**exp % p'''\n",
    "    if log:\n",
    "        print(f'pow_mod(base={base},exp={exp},b={b},p={p})')\n",
    "        \n",
    "    if exp==1:\n",
    "        ans = base*b % p\n",
    "        if log:\n",
    "            print(f'done->{ans}')\n",
    "        return ans\n",
    "    elif exp%2==0:\n",
    "        return pow_mod(base**2 % p, exp//2, p, b, log)\n",
    "    #log if odd\n",
    "    if log:\n",
    "        print(f'pow_mod(base={base},exp={exp-1},b={base*b},p={p})\\t odd')\n",
    "    return pow_mod(base**2 % p, (exp-1)//2, p, base*b % p, log)"
   ]
  },
  {
   "cell_type": "code",
   "execution_count": 3,
   "metadata": {},
   "outputs": [],
   "source": [
    "# found from https://paulrohan.medium.com/prime-factorization-of-a-number-in-python-and-why-we-check-upto-the-square-root-of-the-number-111de56541f\n",
    "def prime_factors(number):\n",
    "    def add_factor(factors, factor):\n",
    "        if factor not in factors:\n",
    "            factors[factor] = 1\n",
    "        else:\n",
    "            factors[factor] += 1\n",
    "    # dictionary mapping prime factor to powers of factor\n",
    "    prime_factors = {}\n",
    "    \n",
    "    # check factors of two and make number odd\n",
    "    while number % 2 == 0:\n",
    "        add_factor(prime_factors, 2)\n",
    "        number //= 2\n",
    "    \n",
    "    # check in range [3, sqrt(n)] for factors because we know \n",
    "    # that at least one of the factors for a number must be less than sqrt(n)\n",
    "    # for any non-prime because otherwise if n = p*q where p and q are prime and both \n",
    "    # are greater than sqrt(n) then p*q > n\n",
    "    # Also, we know that we can increment by 2 to only check odds because we already found how many\n",
    "    # times 2 divides number\n",
    "    for i in range(3, int(number**0.5)+1, 2):\n",
    "        \n",
    "        # check how many times this factor divides number\n",
    "        while number % i == 0:\n",
    "            add_factor(prime_factors, i)\n",
    "            number //= i\n",
    "    \n",
    "    # if number > 2 then number is the prime factor of number > sqrt(n)\n",
    "    if number > 2:\n",
    "        add_factor(prime_factors, number)\n",
    "    return [item for item in prime_factors.items()]"
   ]
  },
  {
   "cell_type": "code",
   "execution_count": 10,
   "metadata": {},
   "outputs": [],
   "source": [
    "def phi(n,log=False):\n",
    "    factors = prime_factors(n)\n",
    "    ret=1\n",
    "    str_phi = ''\n",
    "    for prime_factor, power in factors:\n",
    "        phi_p = phi_prime(prime_factor, power)\n",
    "        str_phi += f'phi({prime_factor}**{power})*'\n",
    "        ret *= phi_p\n",
    "    if log:\n",
    "        print(str_phi[:-1])\n",
    "    return ret\n",
    "\n",
    "# phi(p**k) where p is prime == p**k -p**(k-1)\n",
    "def phi_prime(p, power):\n",
    "    return p**power - p**(power-1)"
   ]
  },
  {
   "cell_type": "markdown",
   "metadata": {},
   "source": [
    "### Finding All Primitive Elements mod p"
   ]
  },
  {
   "cell_type": "code",
   "execution_count": 5,
   "metadata": {},
   "outputs": [],
   "source": [
    "from random import randint\n",
    "def is_pe(a, factors, p):\n",
    "    is_pe = True \n",
    "    for factor, power in factors:\n",
    "        # print(f'factor: {factor}')\n",
    "        current_exponent = (p-1)//factor\n",
    "        # print(f'{a}**{current_exponent} mod {p}')\n",
    "        if pow_mod(a, current_exponent, p) == 1:\n",
    "            is_pe = False\n",
    "            break\n",
    "    return is_pe\n",
    "\n",
    "def get_pe(p):\n",
    "    # list of factors in format (factor, power)\n",
    "    factors = prime_factors(p-1)\n",
    "    found = False\n",
    "    \n",
    "    while not found:\n",
    "        a = randint(2, p-1)\n",
    "        if is_pe(a, factors, p):\n",
    "            return a\n",
    "    return None\n",
    "\n",
    "def get_all_pe(p):\n",
    "    # list of factors in format (factor, power)\n",
    "    factors = prime_factors(p-1)\n",
    "    all_pe = []\n",
    "    \n",
    "    a_s = [i for i in range(2,p-1)]\n",
    "    for a in a_s:\n",
    "        if is_pe(a, factors, p):\n",
    "            all_pe.append(a)\n",
    "    return all_pe"
   ]
  },
  {
   "cell_type": "markdown",
   "metadata": {},
   "source": [
    "# HW"
   ]
  },
  {
   "cell_type": "markdown",
   "metadata": {},
   "source": [
    "## Problem 1 - Find all primitive elements mod 43"
   ]
  },
  {
   "cell_type": "code",
   "execution_count": 7,
   "metadata": {},
   "outputs": [
    {
     "name": "stdout",
     "output_type": "stream",
     "text": [
      "primitive elements mod 43: [3, 5, 12, 18, 19, 20, 26, 28, 29, 30, 33, 34]\n",
      "length of primitives: 12\n",
      "phi(43)=12\n"
     ]
    }
   ],
   "source": [
    "p=43\n",
    "primitives = get_all_pe(p)\n",
    "print(f'primitive elements mod {p}: {primitives}')\n",
    "print(f'length of primitives: {len(primitives)}')\n",
    "print(f'phi({p})={phi(p-1)}')"
   ]
  },
  {
   "cell_type": "markdown",
   "metadata": {},
   "source": [
    "## Problem 2 - phi(6048)"
   ]
  },
  {
   "cell_type": "code",
   "execution_count": 11,
   "metadata": {},
   "outputs": [
    {
     "name": "stdout",
     "output_type": "stream",
     "text": [
      "phi(2**5)*phi(3**3)*phi(7**1)\n"
     ]
    },
    {
     "data": {
      "text/plain": [
       "1728"
      ]
     },
     "execution_count": 11,
     "metadata": {},
     "output_type": "execute_result"
    }
   ],
   "source": [
    "phi(6048, log=True)"
   ]
  },
  {
   "cell_type": "markdown",
   "metadata": {},
   "source": [
    "## Problem 4 - 6**k mod 991 = 687"
   ]
  },
  {
   "cell_type": "code",
   "execution_count": 16,
   "metadata": {},
   "outputs": [
    {
     "name": "stdout",
     "output_type": "stream",
     "text": [
      "777\n"
     ]
    }
   ],
   "source": [
    "for k in range(2, 991):\n",
    "    # print(k, end=' ')\n",
    "    if pow_mod(6, k, 991) == 687:\n",
    "        break\n",
    "print(k)"
   ]
  }
 ],
 "metadata": {
  "kernelspec": {
   "display_name": "Python 3",
   "language": "python",
   "name": "python3"
  },
  "language_info": {
   "codemirror_mode": {
    "name": "ipython",
    "version": 3
   },
   "file_extension": ".py",
   "mimetype": "text/x-python",
   "name": "python",
   "nbconvert_exporter": "python",
   "pygments_lexer": "ipython3",
   "version": "3.7.6"
  }
 },
 "nbformat": 4,
 "nbformat_minor": 4
}
