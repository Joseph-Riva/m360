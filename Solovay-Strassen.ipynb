{
 "cells": [
  {
   "cell_type": "code",
   "execution_count": 8,
   "id": "australian-cleaner",
   "metadata": {},
   "outputs": [
    {
     "name": "stdout",
     "output_type": "stream",
     "text": [
      "LCM of 84 and 108 is 756 == 84*108/gcd(84, 108) == 9072/12\n"
     ]
    }
   ],
   "source": [
    "from scripts.powmod import pow_mod\n",
    "from scripts.factor import prime_factors\n",
    "from scripts.gcd import gcd"
   ]
  },
  {
   "cell_type": "code",
   "execution_count": 9,
   "id": "front-picnic",
   "metadata": {},
   "outputs": [],
   "source": [
    "def jacobi(a, n):\n",
    "    assert(n > a > 0 and n%2 == 1)\n",
    "    t = 1\n",
    "    while a != 0:\n",
    "        while a % 2 == 0:\n",
    "            a /= 2\n",
    "            r = n % 8\n",
    "            if r == 3 or r == 5:\n",
    "                t = -t\n",
    "        a, n = n, a\n",
    "        if a % 4 == n % 4 == 3:\n",
    "            t = -t\n",
    "        a %= n\n",
    "    if n == 1:\n",
    "        return t\n",
    "    else:\n",
    "        return 0"
   ]
  },
  {
   "cell_type": "code",
   "execution_count": 22,
   "id": "brave-clock",
   "metadata": {},
   "outputs": [],
   "source": [
    "def solvay_strassen_prime(n):\n",
    "    for a in range(221):\n",
    "        if gcd(a, n) != 1:\n",
    "            continue\n",
    "        x = pow_mod(a, (n-1)//2, n)\n",
    "        J = jacobi(a, n)\n",
    "        if x != J:\n",
    "            print(f'{a = }')\n",
    "            print(f'Jacobi: {a}/{n} -> {J}')\n",
    "            print(f'a^(n-1)/2 -> {x}')\n",
    "            print(f'{n} is composite')\n",
    "            return True\n",
    "    print(f'test is inconclusive')\n",
    "    return False"
   ]
  },
  {
   "cell_type": "code",
   "execution_count": 23,
   "id": "spanish-surrey",
   "metadata": {},
   "outputs": [
    {
     "name": "stdout",
     "output_type": "stream",
     "text": [
      "a = 2\n",
      "Jacobi: 2/221 -> -1\n",
      "a^(n-1)/2 -> 30\n",
      "221 is composite\n"
     ]
    },
    {
     "data": {
      "text/plain": [
       "True"
      ]
     },
     "execution_count": 23,
     "metadata": {},
     "output_type": "execute_result"
    }
   ],
   "source": [
    "solvay_strassen_prime(221)"
   ]
  },
  {
   "cell_type": "code",
   "execution_count": 24,
   "id": "specific-august",
   "metadata": {},
   "outputs": [
    {
     "name": "stdout",
     "output_type": "stream",
     "text": [
      "a = 2\n",
      "Jacobi: 2/27383 -> 1\n",
      "a^(n-1)/2 -> 10656\n",
      "27383 is composite\n"
     ]
    },
    {
     "data": {
      "text/plain": [
       "True"
      ]
     },
     "execution_count": 24,
     "metadata": {},
     "output_type": "execute_result"
    }
   ],
   "source": [
    "solvay_strassen_prime(27383)"
   ]
  },
  {
   "cell_type": "code",
   "execution_count": null,
   "id": "polar-puzzle",
   "metadata": {},
   "outputs": [],
   "source": []
  }
 ],
 "metadata": {
  "kernelspec": {
   "display_name": "Python 3",
   "language": "python",
   "name": "python3"
  },
  "language_info": {
   "codemirror_mode": {
    "name": "ipython",
    "version": 3
   },
   "file_extension": ".py",
   "mimetype": "text/x-python",
   "name": "python",
   "nbconvert_exporter": "python",
   "pygments_lexer": "ipython3",
   "version": "3.8.6"
  }
 },
 "nbformat": 4,
 "nbformat_minor": 5
}
