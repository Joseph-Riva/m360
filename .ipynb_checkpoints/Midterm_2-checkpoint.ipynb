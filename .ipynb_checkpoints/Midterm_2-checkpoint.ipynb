{
 "cells": [
  {
   "cell_type": "markdown",
   "metadata": {},
   "source": [
    "# Helper Functions"
   ]
  },
  {
   "cell_type": "code",
   "execution_count": 1,
   "metadata": {},
   "outputs": [],
   "source": [
    "def pow_mod(base, exp, p=1, b=1, log=False):\n",
    "    '''computes base**exp % p'''\n",
    "    if log:\n",
    "        print(f'pow_mod(base={base},exp={exp},b={b},p={p})')\n",
    "    if exp==0:\n",
    "        return 1\n",
    "    if exp==1:\n",
    "        ans = base*b % p\n",
    "        if log:\n",
    "            print(f'done->{ans}')\n",
    "        return ans\n",
    "    elif exp%2==0:\n",
    "        return pow_mod(base**2 % p, exp//2, p, b, log)\n",
    "    #log if odd\n",
    "    if log:\n",
    "        print(f'pow_mod(base={base},exp={exp-1},b={base*b},p={p})\\t odd')\n",
    "    return pow_mod(base**2 % p, (exp-1)//2, p, base*b % p, log)"
   ]
  },
  {
   "cell_type": "code",
   "execution_count": 2,
   "metadata": {},
   "outputs": [],
   "source": [
    "# found from https://paulrohan.medium.com/prime-factorization-of-a-number-in-python-and-why-we-check-upto-the-square-root-of-the-number-111de56541f\n",
    "def prime_factors(number):\n",
    "    def add_factor(factors, factor):\n",
    "        if factor not in factors:\n",
    "            factors[factor] = 1\n",
    "        else:\n",
    "            factors[factor] += 1\n",
    "    # dictionary mapping prime factor to powers of factor\n",
    "    prime_factors = {}\n",
    "    \n",
    "    # check factors of two and make number odd\n",
    "    while number % 2 == 0:\n",
    "        add_factor(prime_factors, 2)\n",
    "        number //= 2\n",
    "    \n",
    "    # check in range [3, sqrt(n)] for factors because we know \n",
    "    # that at least one of the factors for a number must be less than sqrt(n)\n",
    "    # for any non-prime because otherwise if n = p*q where p and q are prime and both \n",
    "    # are greater than sqrt(n) then p*q > n\n",
    "    # Also, we know that we can increment by 2 to only check odds because we already found how many\n",
    "    # times 2 divides number\n",
    "    for i in range(3, int(number**0.5)+1, 2):\n",
    "        \n",
    "        # check how many times this factor divides number\n",
    "        while number % i == 0:\n",
    "            add_factor(prime_factors, i)\n",
    "            number //= i\n",
    "    \n",
    "    # if number > 2 then number is the prime factor of number > sqrt(n)\n",
    "    if number > 2:\n",
    "        add_factor(prime_factors, number)\n",
    "    return [item for item in prime_factors.items()]"
   ]
  },
  {
   "cell_type": "code",
   "execution_count": 3,
   "metadata": {},
   "outputs": [],
   "source": [
    "def phi(n,log=False):\n",
    "    factors = prime_factors(n)\n",
    "    ret=1\n",
    "    str_phi = ''\n",
    "    for prime_factor, power in factors:\n",
    "        phi_p = phi_prime(prime_factor, power)\n",
    "        str_phi += f'phi({prime_factor}**{power})*'\n",
    "        ret *= phi_p\n",
    "    if log:\n",
    "        print(str_phi[:-1])\n",
    "    return ret\n",
    "\n",
    "# phi(p**k) where p is prime == p**k -p**(k-1)\n",
    "def phi_prime(p, power):\n",
    "    return p**power - p**(power-1)"
   ]
  },
  {
   "cell_type": "markdown",
   "metadata": {},
   "source": [
    "# Finding All Primitive Elements mod p"
   ]
  },
  {
   "cell_type": "code",
   "execution_count": 42,
   "metadata": {},
   "outputs": [],
   "source": [
    "from random import randint\n",
    "def is_pe(a, factors, p):\n",
    "    is_pe = True \n",
    "    for factor, power in factors:\n",
    "        print(f'factor: {factor}')\n",
    "        current_exponent = (p-1)//factor\n",
    "        print(f'{a}**{current_exponent} mod {p} = {pow_mod(a, current_exponent, p)}')\n",
    "        if pow_mod(a, current_exponent, p) == 1:\n",
    "            is_pe = False\n",
    "            break\n",
    "    return is_pe\n",
    "\n",
    "def get_pe(p):\n",
    "    # list of factors in format (factor, power)\n",
    "    factors = prime_factors(p-1)\n",
    "    found = False\n",
    "    \n",
    "    while not found:\n",
    "        a = randint(2, p-1)\n",
    "        print(f'trying {a}')\n",
    "        if is_pe(a, factors, p):\n",
    "            print(f'found {a}!!!')\n",
    "            return a\n",
    "        print()\n",
    "    return None\n",
    "\n",
    "def get_co_primes(n):\n",
    "    factors = [factor for factor, power in prime_factors(n)]\n",
    "    # any number divisible by a factor of n is not co prime\n",
    "    co_primes = [1]\n",
    "    for i in range(2,n):\n",
    "        is_coPrime = True\n",
    "        for factor in factors:\n",
    "            if i % factor == 0:\n",
    "                is_coPrime = False\n",
    "                break\n",
    "        if is_coPrime:\n",
    "            co_primes.append(i)\n",
    "    return co_primes\n",
    "\n",
    "def get_order_powers(p):\n",
    "    '''returns the cyclic order of powers'''\n",
    "    pe = get_pe(p)\n",
    "    return [pow_mod(pe, i, p) for i in range(0, p-1)]\n",
    "\n",
    "def get_all_pe(p, log=False):\n",
    "    ''' this code uses the cyclic group order formula to generate all primitive elements\n",
    "        given just one!\n",
    "    '''\n",
    "    \n",
    "    # list of all elements co-prime to p-1\n",
    "    z_star = get_co_primes(p-1)\n",
    "    print(f'z_star(p-1): {z_star}')\n",
    "    # a single primitive element for p\n",
    "    pe = get_pe(p)\n",
    "    print(f'pe mod 13 is {pe}')\n",
    "    # generate the multiplicative group from a single pe by doing pe**i % p for i=1 to p-1\n",
    "    group = [pow_mod(pe, i, p) for i in range(1, p)]\n",
    "    print(f'multiplicative group from pe**i mod p: {group}')\n",
    "    all_pe = [group[i-1] for i in z_star]\n",
    "    assert len(all_pe) == phi(p-1)\n",
    "    if log:\n",
    "        print(f'len of primitives: {len(all_pe)} == {phi(p)}')\n",
    "    return sorted(all_pe)"
   ]
  },
  {
   "cell_type": "markdown",
   "metadata": {},
   "source": [
    "# Inverse Functions"
   ]
  },
  {
   "cell_type": "code",
   "execution_count": 31,
   "metadata": {},
   "outputs": [],
   "source": [
    "def inverse_phi(n):\n",
    "    if n % 2 != 0:\n",
    "        # phi can't return odd numbers\n",
    "        return False\n",
    "    \n",
    "    i = 2\n",
    "    ans = phi(i)\n",
    "    while ans < n:\n",
    "        i += 1\n",
    "        ans = phi(i)\n",
    "        if ans == n:\n",
    "            return i\n",
    "    return False"
   ]
  },
  {
   "cell_type": "code",
   "execution_count": 32,
   "metadata": {},
   "outputs": [],
   "source": [
    "def discrete_log(base, p, a):\n",
    "    ''' computes base**k mod p = a and solves for k '''\n",
    "    for k in range(0, 10_000):\n",
    "        if pow_mod(base, k, p) == a:\n",
    "            return k\n",
    "    return False"
   ]
  },
  {
   "cell_type": "code",
   "execution_count": 33,
   "metadata": {},
   "outputs": [],
   "source": [
    "def inverse_mod(base, p):\n",
    "    ''' computes inverse of base mod p'''\n",
    "    return pow(base, -1, p)"
   ]
  },
  {
   "cell_type": "markdown",
   "metadata": {},
   "source": [
    "# Primes"
   ]
  },
  {
   "cell_type": "code",
   "execution_count": 34,
   "metadata": {},
   "outputs": [],
   "source": [
    "from random import randint\n",
    "def is_prime(p, log=False):\n",
    "    ''' can only return whether a number is not prime or true if we think it could be prime'''\n",
    "    a = randint(2, p-1)\n",
    "    for i in range(1000):\n",
    "        #try 1000 random numbers\n",
    "        if pow_mod(a, p-1, p) != 1:\n",
    "            return False\n",
    "    if log:\n",
    "        print()\n",
    "    return True"
   ]
  },
  {
   "cell_type": "code",
   "execution_count": 35,
   "metadata": {},
   "outputs": [
    {
     "data": {
      "text/plain": [
       "(False, True)"
      ]
     },
     "execution_count": 35,
     "metadata": {},
     "output_type": "execute_result"
    }
   ],
   "source": [
    "is_prime(35), is_prime(17)"
   ]
  },
  {
   "cell_type": "code",
   "execution_count": 36,
   "metadata": {},
   "outputs": [],
   "source": [
    "from secrets import randbits\n",
    "def get_rand_prime(num_bits=256):\n",
    "    ''' generates 256 bit prime number '''\n",
    "    p = randbits(num_bits)\n",
    "    while not is_prime(p):\n",
    "        p = randbits(num_bits)\n",
    "    return p"
   ]
  },
  {
   "cell_type": "code",
   "execution_count": 37,
   "metadata": {},
   "outputs": [
    {
     "data": {
      "text/plain": [
       "3119907395579003110028931027119607768094805852649862054811023368110765712197"
      ]
     },
     "execution_count": 37,
     "metadata": {},
     "output_type": "execute_result"
    }
   ],
   "source": [
    "get_rand_prime()"
   ]
  },
  {
   "cell_type": "markdown",
   "metadata": {},
   "source": [
    "# RSA\n",
    "take two primes $p$ and $q$ and get an $n=p*q$ and $a=phi(n)$\n",
    "then pick an exponent, $e$, which is co-prime(gcd==1) to a/phi(n)\n",
    "which gives us a decryption exponent, $d$, which is the inverse of $e\\:mod\\:phi(n)$"
   ]
  },
  {
   "cell_type": "code",
   "execution_count": 38,
   "metadata": {},
   "outputs": [],
   "source": [
    "def encrypt(s, n, e):\n",
    "    # for each packed letter do m**e % n\n",
    "    pass\n",
    "def decrypt(s, n , d):\n",
    "    # for each packed letter do m**d % n\n",
    "    pass"
   ]
  },
  {
   "cell_type": "markdown",
   "metadata": {},
   "source": [
    "# TESTING"
   ]
  },
  {
   "cell_type": "code",
   "execution_count": 39,
   "metadata": {},
   "outputs": [
    {
     "name": "stdout",
     "output_type": "stream",
     "text": [
      "trying 3\n",
      "factor: 2\n",
      "3**21 mod 43 = 42\n",
      "factor: 3\n",
      "3**14 mod 43 = 36\n",
      "factor: 7\n",
      "3**6 mod 43 = 41\n",
      "found 3!!!\n",
      "all primitive elements mod 43 is [3, 5, 12, 18, 19, 20, 26, 28, 29, 30, 33, 34]\n",
      "\n",
      "trying 2\n",
      "factor: 2\n",
      "2**3 mod 7 = 1\n",
      "\n",
      "trying 4\n",
      "factor: 2\n",
      "4**3 mod 7 = 1\n",
      "\n",
      "trying 6\n",
      "factor: 2\n",
      "6**3 mod 7 = 6\n",
      "factor: 3\n",
      "6**2 mod 7 = 1\n",
      "\n",
      "trying 3\n",
      "factor: 2\n",
      "3**3 mod 7 = 6\n",
      "factor: 3\n",
      "3**2 mod 7 = 2\n",
      "found 3!!!\n",
      "order of powers for Z mod 7 is [1, 3, 2, 6, 4, 5]\n",
      "\n",
      "phi(2**5)*phi(3**3)*phi(7**1)\n",
      "phi of 6048 is 1728\n",
      "inverse phi of 4 is 5\n",
      "\n",
      "discrete log 5**k mod 7 == 3 is 5\n",
      "\n",
      "inverse of 15 mod 37 is 5\n"
     ]
    }
   ],
   "source": [
    "print(f'all primitive elements mod 43 is {get_all_pe(43)}\\n')\n",
    "\n",
    "print(f'order of powers for Z mod 7 is {get_order_powers(7)}\\n')\n",
    "\n",
    "print(f'phi of 6048 is {phi(6048, log=True)}')\n",
    "print(f'inverse phi of 4 is {inverse_phi(4)}\\n')\n",
    "\n",
    "print(f'discrete log 5**k mod 7 == 3 is {discrete_log(5, 7, 3)}\\n')\n",
    "\n",
    "print(f'inverse of 15 mod 37 is {inverse_mod(15, 37)}')"
   ]
  },
  {
   "cell_type": "markdown",
   "metadata": {},
   "source": [
    "# EXAM"
   ]
  },
  {
   "cell_type": "markdown",
   "metadata": {},
   "source": [
    "Question 2c) find p.e. modulo 31"
   ]
  },
  {
   "cell_type": "code",
   "execution_count": 41,
   "metadata": {},
   "outputs": [
    {
     "name": "stdout",
     "output_type": "stream",
     "text": [
      "[(2, 1), (3, 1), (5, 1)]\n",
      "trying 30\n",
      "factor: 2\n",
      "30**15 mod 31 = 30\n",
      "factor: 3\n",
      "30**10 mod 31 = 1\n",
      "\n",
      "trying 17\n",
      "factor: 2\n",
      "17**15 mod 31 = 30\n",
      "factor: 3\n",
      "17**10 mod 31 = 25\n",
      "factor: 5\n",
      "17**6 mod 31 = 8\n",
      "found 17!!!\n"
     ]
    },
    {
     "data": {
      "text/plain": [
       "17"
      ]
     },
     "execution_count": 41,
     "metadata": {},
     "output_type": "execute_result"
    }
   ],
   "source": [
    "print(prime_factors(30))\n",
    "get_pe(31)"
   ]
  },
  {
   "cell_type": "code",
   "execution_count": null,
   "metadata": {},
   "outputs": [],
   "source": []
  }
 ],
 "metadata": {
  "kernelspec": {
   "display_name": "Python 3",
   "language": "python",
   "name": "python3"
  },
  "language_info": {
   "codemirror_mode": {
    "name": "ipython",
    "version": 3
   },
   "file_extension": ".py",
   "mimetype": "text/x-python",
   "name": "python",
   "nbconvert_exporter": "python",
   "pygments_lexer": "ipython3",
   "version": "3.8.5"
  }
 },
 "nbformat": 4,
 "nbformat_minor": 4
}
