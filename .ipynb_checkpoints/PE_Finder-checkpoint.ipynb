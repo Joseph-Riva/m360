{
 "cells": [
  {
   "cell_type": "code",
   "execution_count": null,
   "metadata": {},
   "outputs": [],
   "source": [
    "from random import randint, shuffle\n",
    "from scripts.factor import prime_factors\n",
    "from scripts.powmod import pow_mod\n",
    "def is_pe(a, factors, p):\n",
    "    print(\"a\", a)\n",
    "    is_pe = True \n",
    "    for factor, power in factors:\n",
    "        # base, exp, p\n",
    "        #print(\"factor\", factor)\n",
    "        current_exponent = int(p-1/factor)\n",
    "        #print(\"exp: \", current_exponent)\n",
    "        if pow_mod(a, current_exponent, p) == 1:\n",
    "            #print(\"fail\")\n",
    "            #print()\n",
    "            is_pe = False\n",
    "            break\n",
    "    return is_pe\n",
    "def get_pe(p):\n",
    "    # list of factors in format (factor, power)\n",
    "    factors = prime_factors(p-1)\n",
    "    found = False\n",
    "    \n",
    "    while not found:\n",
    "        a = randint(1, p-1)\n",
    "        if is_pe(a, factors, p):\n",
    "            return a\n",
    "    return None\n",
    "def get_all_pe(p):\n",
    "    # list of factors in format (factor, power)\n",
    "    factors = prime_factors(p-1)\n",
    "    all_pe = []\n",
    "    \n",
    "    a_s = [i for i in range(2,p-1)]\n",
    "    shuffle(a_s)\n",
    "    print(a_s)\n",
    "    for a in a_s:\n",
    "        if is_pe(a, factors, p):\n",
    "            all_pe.append(a)\n",
    "    return all_pe"
   ]
  },
  {
   "cell_type": "code",
   "execution_count": null,
   "metadata": {},
   "outputs": [],
   "source": [
    "if __name__ == \"__main__\":\n",
    "    primitives = get_pe(7)\n",
    "    print(primitives)"
   ]
  },
  {
   "cell_type": "code",
   "execution_count": null,
   "metadata": {},
   "outputs": [],
   "source": []
  },
  {
   "cell_type": "code",
   "execution_count": null,
   "metadata": {},
   "outputs": [],
   "source": []
  }
 ],
 "metadata": {
  "kernelspec": {
   "display_name": "Python 3",
   "language": "python",
   "name": "python3"
  },
  "language_info": {
   "codemirror_mode": {
    "name": "ipython",
    "version": 3
   },
   "file_extension": ".py",
   "mimetype": "text/x-python",
   "name": "python",
   "nbconvert_exporter": "python",
   "pygments_lexer": "ipython3",
   "version": "3.7.6"
  }
 },
 "nbformat": 4,
 "nbformat_minor": 4
}
