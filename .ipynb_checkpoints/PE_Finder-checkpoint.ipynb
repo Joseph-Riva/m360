{
 "cells": [
  {
   "cell_type": "code",
   "execution_count": 28,
   "metadata": {},
   "outputs": [],
   "source": [
    "from random import randint, shuffle\n",
    "from scripts.factor import prime_factors\n",
    "from scripts.powmod import pow_mod\n",
    "from scripts.phi import num_prim\n",
    "def is_pe(a, factors, p):\n",
    "    is_pe = True \n",
    "    for factor, power in factors:\n",
    "        # print(f'factor: {factor}')\n",
    "        current_exponent = (p-1)//factor\n",
    "        # print(f'{a}**{current_exponent} mod {p}')\n",
    "        if pow_mod(a, current_exponent, p) == 1:\n",
    "            is_pe = False\n",
    "            break\n",
    "    return is_pe\n",
    "\n",
    "def get_pe(p):\n",
    "    # list of factors in format (factor, power)\n",
    "    factors = prime_factors(p-1)\n",
    "    found = False\n",
    "    \n",
    "    while not found:\n",
    "        a = randint(2, p-1)\n",
    "        if is_pe(a, factors, p):\n",
    "            return a\n",
    "    return None\n",
    "\n",
    "def get_all_pe(p):\n",
    "    # list of factors in format (factor, power)\n",
    "    factors = prime_factors(p-1)\n",
    "    all_pe = []\n",
    "    \n",
    "    a_s = [i for i in range(2,p-1)]\n",
    "    for a in a_s:\n",
    "        if is_pe(a, factors, p):\n",
    "            all_pe.append(a)\n",
    "    return all_pe"
   ]
  },
  {
   "cell_type": "code",
   "execution_count": 31,
   "metadata": {},
   "outputs": [
    {
     "name": "stdout",
     "output_type": "stream",
     "text": [
      "[3, 5, 12, 18, 19, 20, 26, 28, 29, 30, 33, 34]\n"
     ]
    },
    {
     "ename": "NameError",
     "evalue": "name 'num_prim' is not defined",
     "output_type": "error",
     "traceback": [
      "\u001b[0;31m---------------------------------------------------------------------------\u001b[0m",
      "\u001b[0;31mNameError\u001b[0m                                 Traceback (most recent call last)",
      "\u001b[0;32m<ipython-input-31-1d239061393d>\u001b[0m in \u001b[0;36m<module>\u001b[0;34m\u001b[0m\n\u001b[1;32m      3\u001b[0m     \u001b[0mprimitives\u001b[0m \u001b[0;34m=\u001b[0m \u001b[0mget_all_pe\u001b[0m\u001b[0;34m(\u001b[0m\u001b[0mp\u001b[0m\u001b[0;34m)\u001b[0m\u001b[0;34m\u001b[0m\u001b[0;34m\u001b[0m\u001b[0m\n\u001b[1;32m      4\u001b[0m     \u001b[0mprint\u001b[0m\u001b[0;34m(\u001b[0m\u001b[0mprimitives\u001b[0m\u001b[0;34m)\u001b[0m\u001b[0;34m\u001b[0m\u001b[0;34m\u001b[0m\u001b[0m\n\u001b[0;32m----> 5\u001b[0;31m     \u001b[0mprint\u001b[0m\u001b[0;34m(\u001b[0m\u001b[0;34mf'phi({p})={num_prim(p)}'\u001b[0m\u001b[0;34m)\u001b[0m\u001b[0;34m\u001b[0m\u001b[0;34m\u001b[0m\u001b[0m\n\u001b[0m",
      "\u001b[0;31mNameError\u001b[0m: name 'num_prim' is not defined"
     ]
    }
   ],
   "source": [
    "if __name__ == \"__main__\":\n",
    "    p=43\n",
    "    primitives = get_all_pe(p)\n",
    "    print(primitives)\n",
    "    print(f'phi({p})={num_prim(p)}')"
   ]
  },
  {
   "cell_type": "code",
   "execution_count": 10,
   "metadata": {},
   "outputs": [
    {
     "data": {
      "text/plain": [
       "6.5"
      ]
     },
     "execution_count": 10,
     "metadata": {},
     "output_type": "execute_result"
    }
   ],
   "source": []
  },
  {
   "cell_type": "code",
   "execution_count": null,
   "metadata": {},
   "outputs": [],
   "source": []
  }
 ],
 "metadata": {
  "kernelspec": {
   "display_name": "Python 3",
   "language": "python",
   "name": "python3"
  },
  "language_info": {
   "codemirror_mode": {
    "name": "ipython",
    "version": 3
   },
   "file_extension": ".py",
   "mimetype": "text/x-python",
   "name": "python",
   "nbconvert_exporter": "python",
   "pygments_lexer": "ipython3",
   "version": "3.7.6"
  }
 },
 "nbformat": 4,
 "nbformat_minor": 4
}
