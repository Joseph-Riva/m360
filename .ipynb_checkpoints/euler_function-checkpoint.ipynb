{
 "cells": [
  {
   "cell_type": "code",
   "execution_count": 27,
   "metadata": {},
   "outputs": [],
   "source": [
    "from scripts.factor import prime_factors\n",
    "def phi(n):\n",
    "    factors = prime_factors(n)\n",
    "    ret=1\n",
    "    for prime_factor, power in factors:\n",
    "        ret *= phi_prime(prime_factor, power)\n",
    "    return ret\n",
    "\n",
    "# phi(p**k) where p is prime == p**k -p**(k-1)\n",
    "def phi_prime(p, power):\n",
    "    return p**power - p**(power-1)"
   ]
  },
  {
   "cell_type": "code",
   "execution_count": 28,
   "metadata": {},
   "outputs": [],
   "source": [
    "assert phi(420) == 96"
   ]
  },
  {
   "cell_type": "code",
   "execution_count": null,
   "metadata": {},
   "outputs": [],
   "source": []
  }
 ],
 "metadata": {
  "kernelspec": {
   "display_name": "Python 3",
   "language": "python",
   "name": "python3"
  },
  "language_info": {
   "codemirror_mode": {
    "name": "ipython",
    "version": 3
   },
   "file_extension": ".py",
   "mimetype": "text/x-python",
   "name": "python",
   "nbconvert_exporter": "python",
   "pygments_lexer": "ipython3",
   "version": "3.7.6"
  }
 },
 "nbformat": 4,
 "nbformat_minor": 4
}
