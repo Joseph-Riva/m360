{
 "cells": [
  {
   "cell_type": "code",
   "execution_count": 1,
   "metadata": {},
   "outputs": [],
   "source": [
    "def pow_mod(base, exp, p=1, b=1, log=False):\n",
    "    '''computes base**exp % p'''\n",
    "    if log:\n",
    "        print(f'pow_mod(base={base},exp={exp},b={b},p={p})')\n",
    "        \n",
    "    if exp==1:\n",
    "        ans = base*b % p\n",
    "        if log:\n",
    "            print(f'done->{ans}')\n",
    "        return ans\n",
    "    elif exp%2==0:\n",
    "        return pow_mod(base**2 % p, exp//2, p, b, log)\n",
    "    #log if odd\n",
    "    if log:\n",
    "        print(f'pow_mod(base={base},exp={exp-1},b={base*b},p={p})\\t odd')\n",
    "    return pow_mod(base**2 % p, (exp-1)//2, p, base*b % p, log)\n",
    "    "
   ]
  },
  {
   "cell_type": "code",
   "execution_count": 2,
   "metadata": {},
   "outputs": [],
   "source": [
    "assert pow_mod(6,50,251, 1) == 219"
   ]
  },
  {
   "cell_type": "code",
   "execution_count": 4,
   "metadata": {},
   "outputs": [
    {
     "name": "stdout",
     "output_type": "stream",
     "text": [
      "pow_mod(base=3,exp=10,b=1,p=11)\n",
      "pow_mod(base=9,exp=5,b=1,p=11)\n",
      "pow_mod(base=9,exp=4,b=9,p=11)\t odd\n",
      "pow_mod(base=4,exp=2,b=9,p=11)\n",
      "pow_mod(base=5,exp=1,b=9,p=11)\n",
      "done->1\n",
      "\n"
     ]
    }
   ],
   "source": [
    "if __name__==\"__main__\":\n",
    "    ##8**125 % 251\n",
    "    pow_mod(3,10,11, 1, log=True)\n",
    "    print()\n",
    "    pow_mod(7,49,31, 1)"
   ]
  },
  {
   "cell_type": "code",
   "execution_count": null,
   "metadata": {},
   "outputs": [],
   "source": []
  }
 ],
 "metadata": {
  "kernelspec": {
   "display_name": "Python 3",
   "language": "python",
   "name": "python3"
  },
  "language_info": {
   "codemirror_mode": {
    "name": "ipython",
    "version": 3
   },
   "file_extension": ".py",
   "mimetype": "text/x-python",
   "name": "python",
   "nbconvert_exporter": "python",
   "pygments_lexer": "ipython3",
   "version": "3.8.5"
  }
 },
 "nbformat": 4,
 "nbformat_minor": 4
}
