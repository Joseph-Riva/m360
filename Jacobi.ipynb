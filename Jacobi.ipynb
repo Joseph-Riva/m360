{
 "cells": [
  {
   "cell_type": "code",
   "execution_count": 70,
   "id": "documentary-andrews",
   "metadata": {},
   "outputs": [],
   "source": [
    "from IPython.display import display, Math\n",
    "def jacobi(a, n):\n",
    "    if(a < 0):\n",
    "        display(Math(rf'\\left(-\\dfrac{abs(a)}{n}\\right)'))\n",
    "    if a == 0:\n",
    "        # rule 2a\n",
    "        #display(Math(rf'= \\left(\\dfrac{a}{n}\\right)'))\n",
    "        display(Math(rf'\\\\= 0\\: (by\\: 0\\:Rule)'))\n",
    "        return 0\n",
    "    elif a == 1:\n",
    "        #rule 2b\n",
    "        #display(Math(rf'= \\left(\\dfrac{a}{n}\\right)'))\n",
    "        display(Math(rf'\\\\= 1\\: (by\\: 1\\:Rule)'))\n",
    "        return 1\n",
    "    elif a == -1:\n",
    "        #rule 2c\n",
    "        display(Math(rf'\\\\= \\left(-1\\right)^{{\\frac{n-1}{2}}} \\: (by\\: -1\\:Rule)'))\n",
    "        ans = \n",
    "        display(Math(rf'\\\\= \\: (by\\: -1\\:Rule)'))\n",
    "        return 1\n",
    "    elif a == 2:\n",
    "        #rule 2d\n",
    "        return 1\n",
    "    return -1 \n"
   ]
  },
  {
   "cell_type": "code",
   "execution_count": 71,
   "id": "educational-harrison",
   "metadata": {},
   "outputs": [
    {
     "data": {
      "text/latex": [
       "$\\displaystyle \\\\= 1\\: (by\\: 1\\:Rule)$"
      ],
      "text/plain": [
       "<IPython.core.display.Math object>"
      ]
     },
     "metadata": {},
     "output_type": "display_data"
    },
    {
     "data": {
      "text/latex": [
       "$\\displaystyle \\\\= 0\\: (by\\: 0\\:Rule)$"
      ],
      "text/plain": [
       "<IPython.core.display.Math object>"
      ]
     },
     "metadata": {},
     "output_type": "display_data"
    },
    {
     "data": {
      "text/latex": [
       "$\\displaystyle \\left(-\\dfrac19\\right)$"
      ],
      "text/plain": [
       "<IPython.core.display.Math object>"
      ]
     },
     "metadata": {},
     "output_type": "display_data"
    },
    {
     "data": {
      "text/latex": [
       "$\\displaystyle \\\\= \\left(-1\\right)^{\\frac82} \\: (by\\: -1\\:Rule)$"
      ],
      "text/plain": [
       "<IPython.core.display.Math object>"
      ]
     },
     "metadata": {},
     "output_type": "display_data"
    },
    {
     "data": {
      "text/latex": [
       "$\\displaystyle \\\\= \\: (by\\: -1\\:Rule)$"
      ],
      "text/plain": [
       "<IPython.core.display.Math object>"
      ]
     },
     "metadata": {},
     "output_type": "display_data"
    },
    {
     "data": {
      "text/plain": [
       "1"
      ]
     },
     "execution_count": 71,
     "metadata": {},
     "output_type": "execute_result"
    }
   ],
   "source": [
    "jacobi(1,1)\n",
    "jacobi(0,9)\n",
    "jacobi(-1,9)"
   ]
  },
  {
   "cell_type": "code",
   "execution_count": 62,
   "id": "confused-asthma",
   "metadata": {},
   "outputs": [
    {
     "data": {
      "text/latex": [
       "$\\displaystyle =\\\\ \\left(-\\dfrac1{b}\\right)$"
      ],
      "text/plain": [
       "<IPython.core.display.Math object>"
      ]
     },
     "metadata": {},
     "output_type": "display_data"
    }
   ],
   "source": [
    "a = -1\n",
    "display(Math(rf'=\\\\ \\left(-\\dfrac{abs(a)}{{b}}\\right)'))"
   ]
  },
  {
   "cell_type": "code",
   "execution_count": null,
   "id": "educated-organ",
   "metadata": {},
   "outputs": [],
   "source": []
  }
 ],
 "metadata": {
  "kernelspec": {
   "display_name": "Python 3",
   "language": "python",
   "name": "python3"
  },
  "language_info": {
   "codemirror_mode": {
    "name": "ipython",
    "version": 3
   },
   "file_extension": ".py",
   "mimetype": "text/x-python",
   "name": "python",
   "nbconvert_exporter": "python",
   "pygments_lexer": "ipython3",
   "version": "3.8.6"
  }
 },
 "nbformat": 4,
 "nbformat_minor": 5
}
