{
 "cells": [
  {
   "cell_type": "code",
   "execution_count": 1,
   "metadata": {},
   "outputs": [],
   "source": [
    "from scripts.powmod import pow_mod\n",
    "from random import randint, seed"
   ]
  },
  {
   "cell_type": "markdown",
   "metadata": {},
   "source": [
    "# Encrypt"
   ]
  },
  {
   "cell_type": "code",
   "execution_count": 11,
   "metadata": {},
   "outputs": [
    {
     "name": "stdout",
     "output_type": "stream",
     "text": [
      "m:  [3011212, 13050919, 8130105, 12]\n",
      "k:  [36791938, 75575765, 63896758, 876467964]\n",
      "r:  [3718412188, 3891282432, 2199126882, 1624742611]\n",
      "t:  [3869047895, 2075897307, 1983986401, 562059872]\n"
     ]
    }
   ],
   "source": [
    "\n",
    "N = 4460190157\n",
    "g = 974586571\n",
    "A = 1616165761\n",
    "#a = 23 #FIND ACTUAL KEY\n",
    "message = \"CALL ME ISHMAEL\" # CALL MEIS HMAE L\n",
    "\n",
    "\n",
    "m = [3011212, 13050919, 8130105, 12] \n",
    "k = [36791938, 75575765, 63896758, 876467964] \n",
    "\n",
    "r = [pow_mod(g, k_i, N) for k_i in k]\n",
    "t = [(m[i]*pow_mod(A, k[i], N)) % N for i in range(len(m))]\n",
    "\n",
    "print(\"m: \", m)\n",
    "print(\"k: \", k)\n",
    "print(\"r: \", r)\n",
    "print(\"t: \", t)"
   ]
  },
  {
   "cell_type": "markdown",
   "metadata": {},
   "source": [
    "# Decrypt"
   ]
  },
  {
   "cell_type": "code",
   "execution_count": 17,
   "metadata": {},
   "outputs": [
    {
     "name": "stdout",
     "output_type": "stream",
     "text": [
      "x:  [2624927969, 3966818660, 3627167110, 1533568375]\n",
      "y:  [840574011, 2369070632, 2329243934, 3884955129]\n",
      "z:  [3011212, 13050919, 8130105, 12]\n"
     ]
    }
   ],
   "source": [
    "a = 95961\n",
    "\n",
    "x = [pow_mod(r_i, a, N) for r_i in r]\n",
    "print(\"x: \", x)\n",
    "y = [pow_mod(x_i, N-2, N) for x_i in x]\n",
    "print(\"y: \", y)\n",
    "z = [(y[i]*t[i]) % N for i in range(len(y))]\n",
    "print(\"z: \", z)\n",
    "assert z == m"
   ]
  },
  {
   "cell_type": "code",
   "execution_count": null,
   "metadata": {},
   "outputs": [],
   "source": []
  },
  {
   "cell_type": "code",
   "execution_count": null,
   "metadata": {},
   "outputs": [],
   "source": []
  }
 ],
 "metadata": {
  "kernelspec": {
   "display_name": "Python 3",
   "language": "python",
   "name": "python3"
  },
  "language_info": {
   "codemirror_mode": {
    "name": "ipython",
    "version": 3
   },
   "file_extension": ".py",
   "mimetype": "text/x-python",
   "name": "python",
   "nbconvert_exporter": "python",
   "pygments_lexer": "ipython3",
   "version": "3.8.3"
  }
 },
 "nbformat": 4,
 "nbformat_minor": 4
}
