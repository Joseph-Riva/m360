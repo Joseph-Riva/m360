{
 "cells": [
  {
   "cell_type": "code",
   "execution_count": 7,
   "metadata": {},
   "outputs": [],
   "source": [
    "from scripts.powmod import pow_mod\n",
    "from random import randint, seed"
   ]
  },
  {
   "cell_type": "markdown",
   "metadata": {},
   "source": [
    "# Encrypt"
   ]
  },
  {
   "cell_type": "code",
   "execution_count": 20,
   "metadata": {},
   "outputs": [
    {
     "name": "stdout",
     "output_type": "stream",
     "text": [
      "m:  [3011212, 13050919, 8130105, 12]\n",
      "k:  [36791938, 1, 1, 1]\n",
      "r:  [158638752, 1293, 1293, 1293]\n",
      "t:  [65893503, 98377506, 13478517, 156109647]\n"
     ]
    }
   ],
   "source": [
    "\n",
    "N = 165222861\n",
    "g = 1293\n",
    "A = 26777709\n",
    "a = 23 #FIND ACTUAL KEY\n",
    "message = \"CALL ME ISHMAEL\" # CALL MEIS HMAE L\n",
    "m = [3011212, 13050919, 8130105, 12] \n",
    "k = [36791938, 1, 1, 1] # FINISH \n",
    "\n",
    "r = [pow_mod(g, k_i, N) for k_i in k]\n",
    "t = [(m[i]*pow_mod(A, k[i], N)) % N for i in range(len(m))]\n",
    "\n",
    "print(\"m: \", m)\n",
    "print(\"k: \", k)\n",
    "print(\"r: \", r)\n",
    "print(\"t: \", t)"
   ]
  },
  {
   "cell_type": "markdown",
   "metadata": {},
   "source": [
    "# Decrypt"
   ]
  },
  {
   "cell_type": "code",
   "execution_count": 21,
   "metadata": {},
   "outputs": [
    {
     "name": "stdout",
     "output_type": "stream",
     "text": [
      "[29685297, 78433044, 109009305, 151684677]\n"
     ]
    }
   ],
   "source": [
    "x = [pow_mod(r_i, a, N) for r_i in r]\n",
    "y = [pow_mod(x_i, N-2, N) for x_i in x]\n",
    "z = [(y[i]*t[i]) % N for i in range(len(y))]\n",
    "print(z)"
   ]
  },
  {
   "cell_type": "code",
   "execution_count": null,
   "metadata": {},
   "outputs": [],
   "source": []
  }
 ],
 "metadata": {
  "kernelspec": {
   "display_name": "Python 3",
   "language": "python",
   "name": "python3"
  },
  "language_info": {
   "codemirror_mode": {
    "name": "ipython",
    "version": 3
   },
   "file_extension": ".py",
   "mimetype": "text/x-python",
   "name": "python",
   "nbconvert_exporter": "python",
   "pygments_lexer": "ipython3",
   "version": "3.7.6"
  }
 },
 "nbformat": 4,
 "nbformat_minor": 4
}
