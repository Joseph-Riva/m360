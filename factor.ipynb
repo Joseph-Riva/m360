{
 "cells": [
  {
   "cell_type": "code",
   "execution_count": 9,
   "metadata": {},
   "outputs": [],
   "source": [
    "# found from https://paulrohan.medium.com/prime-factorization-of-a-number-in-python-and-why-we-check-upto-the-square-root-of-the-number-111de56541f\n",
    "def prime_factors(number):\n",
    "    def add_factor(factors, factor):\n",
    "        if factor not in factors:\n",
    "            factors[factor] = 1\n",
    "        else:\n",
    "            factors[factor] += 1\n",
    "    # dictionary mapping prime factor to powers of factor\n",
    "    prime_factors = {}\n",
    "    \n",
    "    # check factors of two and make number odd\n",
    "    while number % 2 == 0:\n",
    "        add_factor(prime_factors, 2)\n",
    "        number //= 2\n",
    "    \n",
    "    # check in range [3, sqrt(n)] for factors because we know \n",
    "    # that at least one of the factors for a number must be less than sqrt(n)\n",
    "    # for any non-prime because otherwise if n = p*q where p and q are prime and both \n",
    "    # are greater than sqrt(n) then p*q > n\n",
    "    # Also, we know that we can increment by 2 to only check odds because we already found how many\n",
    "    # times 2 divides number\n",
    "    for i in range(3, int(number**0.5)+1, 2):\n",
    "        \n",
    "        # check how many times this factor divides number\n",
    "        while number % i == 0:\n",
    "            add_factor(prime_factors, i)\n",
    "            number //= i\n",
    "    \n",
    "    # if number > 2 then number is the prime factor of number > sqrt(n)\n",
    "    if number > 2:\n",
    "        add_factor(prime_factors, number)\n",
    "    return [item for item in prime_factors.items()]"
   ]
  },
  {
   "cell_type": "code",
   "execution_count": 11,
   "metadata": {},
   "outputs": [
    {
     "data": {
      "text/plain": [
       "[(7, 1)]"
      ]
     },
     "execution_count": 11,
     "metadata": {},
     "output_type": "execute_result"
    }
   ],
   "source": [
    "prime_factors(7)"
   ]
  },
  {
   "cell_type": "code",
   "execution_count": null,
   "metadata": {},
   "outputs": [],
   "source": []
  }
 ],
 "metadata": {
  "kernelspec": {
   "display_name": "Python 3",
   "language": "python",
   "name": "python3"
  },
  "language_info": {
   "codemirror_mode": {
    "name": "ipython",
    "version": 3
   },
   "file_extension": ".py",
   "mimetype": "text/x-python",
   "name": "python",
   "nbconvert_exporter": "python",
   "pygments_lexer": "ipython3",
   "version": "3.7.6"
  }
 },
 "nbformat": 4,
 "nbformat_minor": 4
}
