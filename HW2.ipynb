{
 "cells": [
  {
   "cell_type": "code",
   "execution_count": 1,
   "metadata": {},
   "outputs": [],
   "source": [
    "class A_Polynomial:\n",
    "    ''' Abstract Polynomial Base Class'''\n",
    "    def get_degree(self):\n",
    "        ''' returns leading coefficient '''\n",
    "        val_str = bin(self.val)\n",
    "        # remove 0b prefix from string\n",
    "        val_str = val_str[2:]\n",
    "        for i in range(len(val_str)):\n",
    "            if(val_str[i] == '1'):\n",
    "                return len(val_str)-1 - i\n",
    "        return 0\n",
    "        \n",
    "    def __str__(self):\n",
    "        result = ''\n",
    "        # trim leading 0b\n",
    "        str_val = bin(self.val)[2:]\n",
    "        for i, val in enumerate(str_val):\n",
    "            cur_degree = self.get_degree()-i\n",
    "            if val == '1':\n",
    "                result += f'x^{cur_degree} +' \n",
    "        # trim leading plus\n",
    "        result = result[0:-1]\n",
    "        return result + f', bin: {bin(self.val)}, dec: {self.val}'\n",
    "    \n"
   ]
  },
  {
   "cell_type": "code",
   "execution_count": 2,
   "metadata": {},
   "outputs": [],
   "source": [
    "class IrreducablePolynomial(A_Polynomial):\n",
    "    irreducable_polys = {\n",
    "        4: 0b111,\n",
    "        8: 0b1101,\n",
    "        16: 0b11001\n",
    "    }\n",
    "    def __init__(self, field_num: int):\n",
    "        ''' field_num - size of the field we want to use'''\n",
    "        self.val = self.irreducable_polys.get(field_num, -1)\n",
    "        if self.val == -1:\n",
    "            raise Exception('No Binary Field of That Size Exists.')\n",
    "        self.degree = None"
   ]
  },
  {
   "cell_type": "code",
   "execution_count": 3,
   "metadata": {},
   "outputs": [],
   "source": [
    "from copy import deepcopy\n",
    "class Polynomial(A_Polynomial):\n",
    "    def __init__(self, val: int, poly: IrreducablePolynomial, log=False):\n",
    "        '''\n",
    "            polynomial mod 2\n",
    "            val - value of this polynomial as bit string\n",
    "            poly - irreducible polynomial to mod by\n",
    "        '''\n",
    "        self.val = val\n",
    "        self.poly = poly\n",
    "        self.log = log\n",
    "        self.degree = None\n",
    "    \n",
    "    def __add__(self, other):\n",
    "        ''' xor this val with others val then mod by poly'''\n",
    "        result = self.val ^ other.val\n",
    "        return Polynomial(result, self.poly) % self.poly\n",
    "    \n",
    "    def __mul__(self, other):\n",
    "        product = 0\n",
    "        str_val = bin(other.val)[2:]\n",
    "        for i, val in enumerate(str_val):\n",
    "            if val == \"1\":\n",
    "                shift = len(str_val)-1-i\n",
    "                val_shifted = self.val << shift\n",
    "                product ^= val_shifted\n",
    "        #print(f'product: {bin(product)}')\n",
    "        return Polynomial(product, poly=self.poly) % self.poly\n",
    "    \n",
    "    def __pow__(self, power):\n",
    "        product = self\n",
    "        for i in range(1,power):\n",
    "            product *= self\n",
    "        return product\n",
    "    def __mod__(self, other: IrreducablePolynomial):\n",
    "        ''' other is an irreducable polynomial'''\n",
    "        this = deepcopy(self)\n",
    "        other = deepcopy(other)\n",
    "        #print(f'this: {this}, irreducable: {other}')\n",
    "        while(this.get_degree() >= other.get_degree()):\n",
    "            #print(f'this_degree: {this.get_degree()}, irreducabledeg: {other.get_degree()}')\n",
    "            diff_degree = this.get_degree() - other.get_degree()\n",
    "            #print(f'this: {this}, irreducable: {other}')\n",
    "            #print(f'diff_degree: {diff_degree}')\n",
    "            #print(f'old_val: {this.val}')\n",
    "            #print(f'{bin(this.val)} ^ {bin(other.val<<diff_degree)}')\n",
    "            this.val = this.val ^ (other.val<<diff_degree)\n",
    "            #print(f'new_val: {this.val}\\n')\n",
    "        return Polynomial(this.val, self.poly)\n",
    "        "
   ]
  },
  {
   "cell_type": "code",
   "execution_count": 4,
   "metadata": {},
   "outputs": [
    {
     "name": "stdout",
     "output_type": "stream",
     "text": [
      "p1-> degree of x^5 +x^2 +x^0 , bin: 0b100101, dec: 37, 5\n",
      "p2-> degree of x^2 , bin: 0b100, dec: 4, 2\n",
      "p1 + p2 % F16= x^3 +x^1 , bin: 0b1010, dec: 10\n"
     ]
    }
   ],
   "source": [
    "# test get_leading and add\n",
    "irred = IrreducablePolynomial(16)\n",
    "p1 = Polynomial(val=0b100101,poly=irred)\n",
    "p2 = Polynomial(val=0b100,poly=irred)\n",
    "print(f'p1-> degree of {p1}, {p1.get_degree()}')\n",
    "print(f'p2-> degree of {p2}, {p2.get_degree()}')\n",
    "print(f'p1 + p2 % F16= {p1 + p2}')"
   ]
  },
  {
   "cell_type": "code",
   "execution_count": 5,
   "metadata": {},
   "outputs": [
    {
     "name": "stdout",
     "output_type": "stream",
     "text": [
      "p1 % irred = x^2 +x^0 , bin: 0b101, dec: 5\n"
     ]
    }
   ],
   "source": [
    "# mod test\n",
    "irred = IrreducablePolynomial(16)\n",
    "p1 = Polynomial(val=0b1111000,poly=irred)\n",
    "#print(f'p1-> degree of {p1}: {p1.get_degree()}')\n",
    "#print(f'p2-> degree of {p2}: {p2.get_degree()}')\n",
    "print(f'p1 % irred = {p1 % p1.poly}')"
   ]
  },
  {
   "cell_type": "code",
   "execution_count": 6,
   "metadata": {},
   "outputs": [
    {
     "name": "stdout",
     "output_type": "stream",
     "text": [
      "p1 * p2 = x^2 +x^0 , bin: 0b101, dec: 5\n"
     ]
    }
   ],
   "source": [
    "# test multiply\n",
    "irred = IrreducablePolynomial(16)\n",
    "p1 = Polynomial(val=0b1000,poly=irred)\n",
    "p2 = Polynomial(val=0b1111,poly=irred)\n",
    "print(f'p1 * p2 = {p1 * p2}')"
   ]
  },
  {
   "cell_type": "code",
   "execution_count": 7,
   "metadata": {},
   "outputs": [
    {
     "name": "stdout",
     "output_type": "stream",
     "text": [
      "x^3 +x^2 +x^1 +x^0 , bin: 0b1111, dec: 15\n"
     ]
    }
   ],
   "source": [
    "# test power\n",
    "p1 = Polynomial(val=0b1000,poly=irred)\n",
    "print(p1**2)"
   ]
  },
  {
   "cell_type": "markdown",
   "metadata": {},
   "source": [
    "# HW2\n",
    "All in F16"
   ]
  },
  {
   "cell_type": "code",
   "execution_count": 8,
   "metadata": {},
   "outputs": [
    {
     "name": "stdout",
     "output_type": "stream",
     "text": [
      "8+14%F16: x^2 +x^1 , bin: 0b110, dec: 6\n"
     ]
    }
   ],
   "source": [
    "irred = IrreducablePolynomial(16)\n",
    "p1 = Polynomial(val=8,poly=irred)\n",
    "p2 = Polynomial(val=14,poly=irred)\n",
    "print(f'8+14%F16: {p1+p2}')"
   ]
  },
  {
   "cell_type": "code",
   "execution_count": 9,
   "metadata": {},
   "outputs": [
    {
     "name": "stdout",
     "output_type": "stream",
     "text": [
      "\n",
      "9*13%F16: x^0 , bin: 0b1, dec: 1\n"
     ]
    }
   ],
   "source": [
    "irred = IrreducablePolynomial(16)\n",
    "p1 = Polynomial(val=9,poly=irred)\n",
    "p2 = Polynomial(val=13,poly=irred)\n",
    "print(f'\\n9*13%F16: {p1*p2}')"
   ]
  },
  {
   "cell_type": "code",
   "execution_count": 10,
   "metadata": {},
   "outputs": [
    {
     "name": "stdout",
     "output_type": "stream",
     "text": [
      "\n",
      "9**5%F16: x^3 +x^1 +x^0 , bin: 0b1011, dec: 11\n"
     ]
    }
   ],
   "source": [
    "irred = IrreducablePolynomial(16)\n",
    "p1 = Polynomial(val=9,poly=irred)\n",
    "print(f'\\n9**5%F16: {p1**5}')"
   ]
  },
  {
   "cell_type": "code",
   "execution_count": 11,
   "metadata": {},
   "outputs": [
    {
     "name": "stdout",
     "output_type": "stream",
     "text": [
      "\n",
      "(5+7)**2%F16: x^2 , bin: 0b100, dec: 4\n"
     ]
    }
   ],
   "source": [
    "irred = IrreducablePolynomial(16)\n",
    "p1 = Polynomial(val=5,poly=irred)\n",
    "p2 = Polynomial(val=7,poly=irred)\n",
    "#p3 = p1 + p2\n",
    "#print(p3)\n",
    "print(f'\\n(5+7)**2%F16: {(p1+p2)**2}')"
   ]
  },
  {
   "cell_type": "code",
   "execution_count": 12,
   "metadata": {},
   "outputs": [
    {
     "name": "stdout",
     "output_type": "stream",
     "text": [
      "\n",
      "(5**2 + 7**2)%F16: x^2 , bin: 0b100, dec: 4\n"
     ]
    }
   ],
   "source": [
    "irred = IrreducablePolynomial(16)\n",
    "p1 = Polynomial(val=5,poly=irred)\n",
    "p2 = Polynomial(val=7,poly=irred)\n",
    "#p3 = p1 + p2\n",
    "#print(p3)\n",
    "print(f'\\n(5**2 + 7**2)%F16: {p1**2 + p2**2}')"
   ]
  },
  {
   "cell_type": "code",
   "execution_count": 13,
   "metadata": {},
   "outputs": [
    {
     "name": "stdout",
     "output_type": "stream",
     "text": [
      "\n",
      "sqrt(10)%F16: x^3 +x^1 +x^0 , bin: 0b1011, dec: 11\n"
     ]
    }
   ],
   "source": [
    "irred = IrreducablePolynomial(16)\n",
    "p1 = Polynomial(val=10,poly=irred)\n",
    "print(f'\\nsqrt(10)%F16: {p1**8}')"
   ]
  },
  {
   "cell_type": "markdown",
   "metadata": {},
   "source": [
    "## Problem 2"
   ]
  },
  {
   "cell_type": "code",
   "execution_count": 14,
   "metadata": {},
   "outputs": [
    {
     "name": "stdout",
     "output_type": "stream",
     "text": [
      "squares mod 13: {0, 1, 3, 4, 9, 10, 12}\n",
      "\n",
      "dict mapping squares --> list of square roots\n",
      "0: [0]\n",
      "1: [1, 12]\n",
      "3: [4, 9]\n",
      "4: [2, 11]\n",
      "9: [3, 10]\n",
      "10: [6, 7]\n",
      "12: [5, 8]\n"
     ]
    }
   ],
   "source": [
    "l = []\n",
    "for i in range(0, 13):\n",
    "    item = (i, pow(i, 2, 13))\n",
    "    l.append(item)\n",
    "#print(l)\n",
    "squares = set([item[1] for item in l])\n",
    "\n",
    "square_roots = dict(zip(squares, [0]*len(squares)))\n",
    "for num, square in l:\n",
    "    if not square_roots.get(square):\n",
    "        square_roots[square] = []\n",
    "    square_roots[square].append(num)\n",
    "print(f'squares mod 13: {squares}\\n')\n",
    "\n",
    "print('dict mapping squares --> list of square roots')\n",
    "for square, roots in square_roots.items():\n",
    "    print(f'{square}: {roots}')\n",
    "# they all add to 13! "
   ]
  },
  {
   "cell_type": "code",
   "execution_count": 15,
   "metadata": {},
   "outputs": [],
   "source": [
    "# square_root[4] -> sqrt(4) % 13 = [2, 11]"
   ]
  },
  {
   "cell_type": "markdown",
   "metadata": {},
   "source": [
    "## Problem 3"
   ]
  },
  {
   "cell_type": "code",
   "execution_count": 16,
   "metadata": {},
   "outputs": [],
   "source": [
    "\n",
    "l = []\n",
    "for x in range(13):\n",
    "    cur_val = (x**3+2*x+5) % 13\n",
    "    if cur_val not in square_roots.keys():\n",
    "        continue\n",
    "    # y = sqrt((x**3+2*x+5) % 13)\n",
    "    y = square_roots[cur_val]\n",
    "    # print(f'i: {x}, x: {cur_val}, y: {y}')\n",
    "    for root in y:\n",
    "        l.append((x, root))"
   ]
  },
  {
   "cell_type": "code",
   "execution_count": 17,
   "metadata": {},
   "outputs": [
    {
     "data": {
      "text/plain": [
       "[(2, 2),\n",
       " (2, 11),\n",
       " (3, 5),\n",
       " (3, 8),\n",
       " (4, 5),\n",
       " (4, 8),\n",
       " (5, 6),\n",
       " (5, 7),\n",
       " (6, 5),\n",
       " (6, 8),\n",
       " (8, 0)]"
      ]
     },
     "execution_count": 17,
     "metadata": {},
     "output_type": "execute_result"
    }
   ],
   "source": [
    "l"
   ]
  }
 ],
 "metadata": {
  "kernelspec": {
   "display_name": "Python 3",
   "language": "python",
   "name": "python3"
  },
  "language_info": {
   "codemirror_mode": {
    "name": "ipython",
    "version": 3
   },
   "file_extension": ".py",
   "mimetype": "text/x-python",
   "name": "python",
   "nbconvert_exporter": "python",
   "pygments_lexer": "ipython3",
   "version": "3.8.8"
  }
 },
 "nbformat": 4,
 "nbformat_minor": 4
}
