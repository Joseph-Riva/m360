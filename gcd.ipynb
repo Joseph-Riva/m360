{
 "cells": [
  {
   "cell_type": "markdown",
   "metadata": {},
   "source": [
    "## if $n=q*m+r$ then $gcd(n,m) = gcd(m,r)$"
   ]
  },
  {
   "cell_type": "code",
   "execution_count": 1,
   "metadata": {},
   "outputs": [],
   "source": [
    "def gcd(a,b, log=True):\n",
    "    if log:\n",
    "        print(f'gcd({a},{b})-> {b}={b//a}*{a} + {b%a}')\n",
    "    if a > b:\n",
    "        #ensuring the order is correct\n",
    "        return gcd(b,a,log)\n",
    "    if a%b == 0 or b%a==0:\n",
    "        ans=a\n",
    "        if log:\n",
    "            print(f'ans->{ans}')\n",
    "        return ans\n",
    "    return gcd(b%a, a, log)"
   ]
  },
  {
   "cell_type": "code",
   "execution_count": 2,
   "metadata": {},
   "outputs": [],
   "source": [
    "assert gcd(84,108,log=False)==12\n",
    "assert gcd(108,84,log=False)==12"
   ]
  },
  {
   "cell_type": "markdown",
   "metadata": {},
   "source": [
    "LCM can be computed based on the fact that $lcm(a,b)*gcd(a,b)=a*b$ so\n",
    "$LCM=\\frac{a*b}{gcd(a,b)}$"
   ]
  },
  {
   "cell_type": "code",
   "execution_count": 3,
   "metadata": {},
   "outputs": [],
   "source": [
    "def lcm(a,b):\n",
    "    if a > b:\n",
    "        return lcm(b,a)\n",
    "    ab_gcd = gcd(a,b, log=False)\n",
    "    ab_prod = a*b\n",
    "    ans = ab_prod// ab_gcd\n",
    "    print(f'LCM of {a} and {b} is {ans} == {a}*{b}/gcd({a}, {b}) == {ab_prod}/{ab_gcd}')\n",
    "    return ans"
   ]
  },
  {
   "cell_type": "code",
   "execution_count": 4,
   "metadata": {},
   "outputs": [
    {
     "name": "stdout",
     "output_type": "stream",
     "text": [
      "LCM of 84 and 108 is 756 == 84*108/gcd(84, 108) == 9072/12\n"
     ]
    }
   ],
   "source": [
    "assert lcm(108,84) == 756"
   ]
  },
  {
   "cell_type": "code",
   "execution_count": 12,
   "metadata": {},
   "outputs": [
    {
     "name": "stdout",
     "output_type": "stream",
     "text": [
      "gcd(66,81)-> 81=1*66 + 15\n",
      "gcd(15,66)-> 66=4*15 + 6\n",
      "gcd(6,15)-> 15=2*6 + 3\n",
      "gcd(3,6)-> 6=2*3 + 0\n",
      "ans->3\n",
      "\n",
      "gcd(119,161)-> 161=1*119 + 42\n",
      "gcd(42,119)-> 119=2*42 + 35\n",
      "gcd(35,42)-> 42=1*35 + 7\n",
      "gcd(7,35)-> 35=5*7 + 0\n",
      "ans->7\n",
      "\n",
      "gcd(10385,6633)-> 6633=0*10385 + 6633\n",
      "gcd(6633,10385)-> 10385=1*6633 + 3752\n",
      "gcd(3752,6633)-> 6633=1*3752 + 2881\n",
      "gcd(2881,3752)-> 3752=1*2881 + 871\n",
      "gcd(871,2881)-> 2881=3*871 + 268\n",
      "gcd(268,871)-> 871=3*268 + 67\n",
      "gcd(67,268)-> 268=4*67 + 0\n",
      "ans->67\n",
      "\n",
      "gcd(589,155)-> 155=0*589 + 155\n",
      "gcd(155,589)-> 589=3*155 + 124\n",
      "gcd(124,155)-> 155=1*124 + 31\n",
      "gcd(31,124)-> 124=4*31 + 0\n",
      "ans->31\n"
     ]
    }
   ],
   "source": [
    "if __name__ == \"__main__\":\n",
    "    gcd(66,81)\n",
    "    print()\n",
    "    gcd(119,161)\n",
    "    print()\n",
    "    gcd(10385,6633)\n",
    "    print()\n",
    "    gcd(589,155)"
   ]
  },
  {
   "cell_type": "code",
   "execution_count": null,
   "metadata": {},
   "outputs": [],
   "source": []
  }
 ],
 "metadata": {
  "kernelspec": {
   "display_name": "Python 3",
   "language": "python",
   "name": "python3"
  },
  "language_info": {
   "codemirror_mode": {
    "name": "ipython",
    "version": 3
   },
   "file_extension": ".py",
   "mimetype": "text/x-python",
   "name": "python",
   "nbconvert_exporter": "python",
   "pygments_lexer": "ipython3",
   "version": "3.7.6"
  }
 },
 "nbformat": 4,
 "nbformat_minor": 4
}
