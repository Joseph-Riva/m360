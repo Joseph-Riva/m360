{
 "cells": [
  {
   "cell_type": "code",
   "execution_count": 3,
   "metadata": {},
   "outputs": [
    {
     "name": "stdout",
     "output_type": "stream",
     "text": [
      "LCM of 84 and 108 is 756 == 84*108/gcd(84, 108) == 9072/12\n"
     ]
    }
   ],
   "source": [
    "from scripts.gcd import gcd\n",
    "from scripts.factor import prime_factors\n",
    "from scripts.powmod import pow_mod"
   ]
  },
  {
   "cell_type": "markdown",
   "metadata": {},
   "source": [
    "# Utility Functions"
   ]
  },
  {
   "cell_type": "code",
   "execution_count": 4,
   "metadata": {},
   "outputs": [],
   "source": [
    "def is_prime_simple(n):\n",
    "    factors = prime_factors(n)\n",
    "    if len(factors) == 1 and ((n, 1) in factors):\n",
    "        return True\n",
    "    return False\n",
    "\n",
    "def mult_inverse(n, p):\n",
    "    return pow(n, -1, p)"
   ]
  },
  {
   "cell_type": "markdown",
   "metadata": {},
   "source": [
    "# Euler"
   ]
  },
  {
   "cell_type": "code",
   "execution_count": 5,
   "metadata": {},
   "outputs": [],
   "source": [
    "def euler_square(a, p):\n",
    "    '''\n",
    "        a - an integer coprime to p\n",
    "        p - a prime\n",
    "    '''\n",
    "    assert gcd(a, p) == 1\n",
    "    assert is_prime_simple(p)\n",
    "    exp = (p-1)//2\n",
    "    num = a**exp % p\n",
    "    if num == 1:\n",
    "        print(f'{a}^({p}-1)//2 == 1 -> square')\n",
    "        return True\n",
    "    elif num == (p-1):\n",
    "        print(f'{a}^({p}-1//2) != 1 -> non-square')\n",
    "        return False"
   ]
  },
  {
   "cell_type": "code",
   "execution_count": 6,
   "metadata": {},
   "outputs": [
    {
     "name": "stdout",
     "output_type": "stream",
     "text": [
      "2^(17-1)//2 == 1 -> square\n"
     ]
    }
   ],
   "source": [
    "assert euler_square(2, 17)"
   ]
  },
  {
   "cell_type": "markdown",
   "metadata": {},
   "source": [
    "# Legendre and Jacobi"
   ]
  },
  {
   "cell_type": "code",
   "execution_count": 44,
   "metadata": {},
   "outputs": [],
   "source": [
    "# pseudo-code from https://primes.utm.edu/glossary/page.php?sort=JacobiSymbol\n",
    "def jacobi(a, n):\n",
    "    t = 1\n",
    "    while a != 0:\n",
    "        while a % 2 == 0:\n",
    "            a /= 2\n",
    "            r = n % 8\n",
    "            if r == 3 or r == 5:\n",
    "                t = -t\n",
    "        a, n = n, a\n",
    "        if a % 4 == n % 4 == 3:\n",
    "            t = -t\n",
    "        a %= n\n",
    "    if n == 1:\n",
    "        return t\n",
    "    else:\n",
    "        return 0"
   ]
  },
  {
   "cell_type": "markdown",
   "metadata": {},
   "source": [
    "# Chinese Remainder Theorem"
   ]
  },
  {
   "cell_type": "markdown",
   "metadata": {},
   "source": [
    "### generating table"
   ]
  },
  {
   "cell_type": "code",
   "execution_count": 7,
   "metadata": {},
   "outputs": [
    {
     "name": "stdout",
     "output_type": "stream",
     "text": [
      "[[ 0. 15.  9.  3. 18. 12.  6.]\n",
      " [ 7.  1. 16. 10.  4. 19. 13.]\n",
      " [14.  8.  2. 17. 11.  5. 20.]]\n"
     ]
    }
   ],
   "source": [
    "import numpy as np\n",
    "\n",
    "# p - num rows\n",
    "p = 3\n",
    "# q - num cols\n",
    "q = 7\n",
    "n = p*q\n",
    "table = np.ones(shape=(p,q))\n",
    "for i in range(n):\n",
    "    table[i%p][i%q] = i \n",
    "print(table)"
   ]
  },
  {
   "cell_type": "markdown",
   "metadata": {},
   "source": [
    "## solving crt"
   ]
  },
  {
   "cell_type": "code",
   "execution_count": 8,
   "metadata": {},
   "outputs": [],
   "source": [
    "def crt(a, b, p, q):\n",
    "    '''\n",
    "        eq1 -> x = (a % p)\n",
    "        eq2 -> x = (b % q)\n",
    "        \n",
    "        solves the number x which goes in (a,b) in the crt table for p*q\n",
    "    '''\n",
    "    result = b % q\n",
    "    # a + k*p for k = (0, ...) gives candidates to test that satisfy eq1\n",
    "    # a + k*p = (b % q) is what we want to solve so subtract a\n",
    "    result = (result - a) % q\n",
    "    # k*p = (b-a % q), so find inverse of p mod q\n",
    "    p_inverse = mult_inverse(p, q)\n",
    "    # multiply both sides by p inverse\n",
    "    result = (result*p_inverse) % q\n",
    "    # result is the k value that solves the problem\n",
    "    # answer is a + k*p mod p*q\n",
    "    answer = (a + result*p) % (p*q)\n",
    "    return answer"
   ]
  },
  {
   "cell_type": "code",
   "execution_count": 9,
   "metadata": {},
   "outputs": [],
   "source": [
    "assert crt(6, 16, 13, 31) == 357"
   ]
  },
  {
   "cell_type": "markdown",
   "metadata": {},
   "source": [
    "# Zero Knowledge Proofs"
   ]
  },
  {
   "cell_type": "markdown",
   "metadata": {},
   "source": [
    "$n = p*q$"
   ]
  },
  {
   "cell_type": "code",
   "execution_count": 6,
   "metadata": {},
   "outputs": [],
   "source": [
    "n = 1549411"
   ]
  },
  {
   "cell_type": "markdown",
   "metadata": {},
   "source": [
    "$x=s^2\\:mod\\:n$"
   ]
  },
  {
   "cell_type": "code",
   "execution_count": 7,
   "metadata": {},
   "outputs": [],
   "source": [
    "x = 1075922"
   ]
  },
  {
   "cell_type": "markdown",
   "metadata": {},
   "source": [
    "$y=u^2\\:mod\\:n$"
   ]
  },
  {
   "cell_type": "code",
   "execution_count": 8,
   "metadata": {},
   "outputs": [],
   "source": [
    "y= 1361157"
   ]
  },
  {
   "cell_type": "markdown",
   "metadata": {},
   "source": [
    "## Step 2 - Bob responds with {0,1}"
   ]
  },
  {
   "cell_type": "code",
   "execution_count": 9,
   "metadata": {},
   "outputs": [],
   "source": [
    "b = 0"
   ]
  },
  {
   "cell_type": "markdown",
   "metadata": {},
   "source": [
    "## Step 3 - Alice responds accordingly\n",
    "if b==0:\n",
    "    $z=u$\n",
    "    \n",
    "else:\n",
    "    $z=s*u$"
   ]
  },
  {
   "cell_type": "code",
   "execution_count": 10,
   "metadata": {},
   "outputs": [],
   "source": [
    "z = 4467"
   ]
  },
  {
   "cell_type": "markdown",
   "metadata": {},
   "source": [
    "## Step 4 - Bob verifies\n",
    "if b==0:\n",
    "    $z^2\\equiv y\\:mod\\:n$\n",
    "    \n",
    "else:\n",
    "    $z^2\\equiv x*y\\:mod\\:n$"
   ]
  },
  {
   "cell_type": "code",
   "execution_count": 11,
   "metadata": {},
   "outputs": [
    {
     "name": "stdout",
     "output_type": "stream",
     "text": [
      "b is 0, Bob responds:  True\n"
     ]
    }
   ],
   "source": [
    "if b==0:\n",
    "    print(\"b is 0, Bob responds: \",pow(z,2, n) == (y % n))\n",
    "else:\n",
    "    print(\"b is 1, Bob responds: \", pow(z,2, n) == (x*y % n))"
   ]
  },
  {
   "cell_type": "markdown",
   "metadata": {},
   "source": [
    "# El Gamal"
   ]
  },
  {
   "cell_type": "markdown",
   "metadata": {},
   "source": [
    "N = large prime (public)\n",
    "\n",
    "a = Alice's private key\n",
    "\n",
    "g = $p.e.\\:mod\\:N$\n",
    "\n",
    "A = $g^a\\:mod\\:N$\n",
    "\n"
   ]
  },
  {
   "cell_type": "markdown",
   "metadata": {},
   "source": [
    "### Set Up"
   ]
  },
  {
   "cell_type": "code",
   "execution_count": 194,
   "metadata": {},
   "outputs": [],
   "source": [
    "N = 4460190157\n",
    "g = 974586571\n",
    "A = 1616165761\n",
    "\n",
    "a = 95961\n",
    "\n",
    "message = \"CALL ME ISHMAEL\" # CALL MEIS HMAE L"
   ]
  },
  {
   "cell_type": "markdown",
   "metadata": {},
   "source": [
    "$m_1,m_2,...,m_n$ and we have cipher text:\n",
    "\n",
    "$(r_i, t_i)\\:=\\:(g^{k_i},\\:m_iA^{k_i})\\:mod\\:N$\n",
    "\n",
    "where $k_i$ is an ephemeral key generated for each m_i"
   ]
  },
  {
   "cell_type": "markdown",
   "metadata": {},
   "source": [
    "### Encrypt"
   ]
  },
  {
   "cell_type": "code",
   "execution_count": 195,
   "metadata": {},
   "outputs": [
    {
     "name": "stdout",
     "output_type": "stream",
     "text": [
      "m:  [3011212, 13050919, 8130105, 12]\n",
      "k:  [36791938, 75575765, 63896758, 876467964]\n",
      "r:  [3718412188, 3891282432, 2199126882, 1624742611]\n",
      "t:  [3869047895, 2075897307, 1983986401, 562059872]\n"
     ]
    }
   ],
   "source": [
    "m = [3011212, 13050919, 8130105, 12] \n",
    "k = [36791938, 75575765, 63896758, 876467964] \n",
    "\n",
    "r = [pow_mod(g, k_i, N) for k_i in k]\n",
    "t = [(m[i]*pow_mod(A, k[i], N)) % N for i in range(len(m))]\n",
    "\n",
    "print(\"m: \", m)\n",
    "print(\"k: \", k)\n",
    "print(\"r: \", r)\n",
    "print(\"t: \", t)"
   ]
  },
  {
   "cell_type": "markdown",
   "metadata": {},
   "source": [
    "### Decrypt\n",
    "\n",
    "we multiply each $t_i\\:=mA^{k_i}=mg^{k_i*a}$ by inverse of $A^{k_i}$ \n",
    "\n",
    "where we get $g^{k_i*a}$ by doing $r_i=g^{k_i}$ to the $a$ power giving us $g^{k_i*a}$ and then finding the inverse and multiply that times $t_i$ giving us the original $m_i$"
   ]
  },
  {
   "cell_type": "code",
   "execution_count": 196,
   "metadata": {},
   "outputs": [
    {
     "name": "stdout",
     "output_type": "stream",
     "text": [
      "x:  [2624927969, 3966818660, 3627167110, 1533568375]\n",
      "y:  [840574011, 2369070632, 2329243934, 3884955129]\n",
      "z:  [3011212, 13050919, 8130105, 12]\n"
     ]
    }
   ],
   "source": [
    "x = [pow_mod(r_i, a, N) for r_i in r]\n",
    "print(\"x: \", x)\n",
    "y = [pow_mod(x_i, N-2, N) for x_i in x]\n",
    "print(\"y: \", y)\n",
    "z = [(y[i]*t[i]) % N for i in range(len(y))]\n",
    "print(\"z: \", z)\n",
    "assert z == m"
   ]
  },
  {
   "cell_type": "markdown",
   "metadata": {},
   "source": [
    "# Diffie-Hellman"
   ]
  },
  {
   "cell_type": "markdown",
   "metadata": {},
   "source": [
    "g = p.e. mod N (public)\n",
    "\n",
    "N = a large prime (public)\n",
    "\n",
    "a = Alice's secret 1 < a < n\n",
    "\n",
    "A = $g^a\\:mod\\:p$\n",
    "\n",
    "b = Bob's secret number 1 < b < n\n",
    "\n",
    "B = $g^b\\:mod\\:p$\n",
    "\n",
    "Alice computes $B^a\\:mod\\:N$\n",
    "\n",
    "Bob computes $A^b\\:mod\\:N$\n",
    "\n",
    "Bob and Alice now share the key $g^{ab}$"
   ]
  },
  {
   "cell_type": "markdown",
   "metadata": {},
   "source": [
    "### Pseudo-Primes"
   ]
  },
  {
   "cell_type": "code",
   "execution_count": 36,
   "metadata": {},
   "outputs": [],
   "source": [
    "# pseudo-code from https://primes.utm.edu/glossary/page.php?sort=JacobiSymbol\n",
    "def jacobi(a, n):\n",
    "    t = 1\n",
    "    while a != 0:\n",
    "        while a % 2 == 0:\n",
    "            a /= 2\n",
    "            r = n % 8\n",
    "            if r == 3 or r == 5:\n",
    "                t = -t\n",
    "        a, n = n, a\n",
    "        if a % 4 == n % 4 == 3:\n",
    "            t = -t\n",
    "        a %= n\n",
    "    if n == 1:\n",
    "        return t\n",
    "    else:\n",
    "        return 0"
   ]
  },
  {
   "cell_type": "markdown",
   "metadata": {},
   "source": [
    "### Solovay-Strassen"
   ]
  },
  {
   "cell_type": "code",
   "execution_count": 39,
   "metadata": {},
   "outputs": [],
   "source": [
    "def solovay_strassen_prime(n):\n",
    "    for a in range(2, n):\n",
    "        if gcd(a, n) != 1:\n",
    "            continue\n",
    "        x = pow_mod(a, (n-1)//2, n)\n",
    "        J = jacobi(a, n)\n",
    "        if x != (J % n):\n",
    "            print(f'{a = }')\n",
    "            print(f'Jacobi: {a}/{n} -> {J}')\n",
    "            print(f'a^(n-1)/2 -> {x}')\n",
    "            print(f'{n} is composite')\n",
    "            return True\n",
    "    print(f'test is inconclusive')\n",
    "    return False"
   ]
  },
  {
   "cell_type": "code",
   "execution_count": 40,
   "metadata": {},
   "outputs": [
    {
     "name": "stdout",
     "output_type": "stream",
     "text": [
      "a = 3\n",
      "Jacobi: 3/16 -> 1\n",
      "a^(n-1)/2 -> 11\n",
      "16 is composite\n"
     ]
    },
    {
     "data": {
      "text/plain": [
       "True"
      ]
     },
     "execution_count": 40,
     "metadata": {},
     "output_type": "execute_result"
    }
   ],
   "source": [
    "solovay_strassen_prime(16)"
   ]
  },
  {
   "cell_type": "markdown",
   "metadata": {},
   "source": [
    "### Miller-Rabin"
   ]
  },
  {
   "cell_type": "code",
   "execution_count": 41,
   "metadata": {},
   "outputs": [],
   "source": [
    "from random import randint\n",
    "from scripts.factor import prime_factors\n",
    "from math import log2\n",
    "from scripts.gcd import gcd\n",
    "def get_ms(n):\n",
    "    ''' returns m, s such that n-1 == 2**s * m'''\n",
    "    # n_1 = n-1\n",
    "    n_1 = n-1\n",
    "    s = 0\n",
    "    while n_1 % 2 == 0:\n",
    "        s += 1\n",
    "        n_1 = n_1//2\n",
    "    m = n // (2**s)\n",
    "    return m, s\n",
    "\n",
    "def mb_prime(n):\n",
    "    m, s = get_ms(n)\n",
    "    \n",
    "    a = randint(2, int(n**(0.5)))\n",
    "    while gcd(a, n) != 1:\n",
    "        a = randint(2, int(n**0.5))\n",
    "\n",
    "    print(f'm = {m}, s = {s}, a={a}')\n",
    "    # b_0 = a**m mod n\n",
    "    b = pow(a, m, n)\n",
    "    print(f'initial {a}**{m} mod {n} == {b}')\n",
    "    if abs(b) == 1:\n",
    "        print()\n",
    "        return False\n",
    "    \n",
    "    for i in range(1, s):\n",
    "        b_n = pow(b, 2, n)\n",
    "        print(f'{b}**{2} mod {n} == {b_n}')\n",
    "        if b_n == 560:\n",
    "            print('test is inconclusive')\n",
    "            return True\n",
    "        if b_n == 1:\n",
    "            print('not prime!')\n",
    "            return False\n",
    "        b = b_n\n",
    "    print('test is inconclusive')\n",
    "    return True"
   ]
  },
  {
   "cell_type": "markdown",
   "metadata": {},
   "source": [
    "### Euler Prime"
   ]
  },
  {
   "cell_type": "code",
   "execution_count": 43,
   "metadata": {},
   "outputs": [],
   "source": [
    "from random import randint\n",
    "def euler_prime(p, log=False):\n",
    "    ''' can only return whether a number is not prime or true if we think it could be prime'''\n",
    "    a = randint(2, p-1)\n",
    "    for i in range(1000):\n",
    "        #try 1000 random numbers\n",
    "        pm = pow_mod(a, p-1, p)\n",
    "        # print(f'trying {a}**{p-1} mod {p} = {pm}')\n",
    "        if pm != 1:\n",
    "            print(f'{a}**{p-1} mod {p} = {pm}')\n",
    "            print('not equal 1, so not prime!')\n",
    "            return False\n",
    "        a = randint(2,p-1)\n",
    "    if log:\n",
    "        print()\n",
    "    print('probably prime')\n",
    "    return True"
   ]
  },
  {
   "cell_type": "markdown",
   "metadata": {},
   "source": [
    "# DLP -> Baby-step Giant-step"
   ]
  },
  {
   "cell_type": "markdown",
   "metadata": {},
   "source": [
    "$a^x \\equiv y\\:mod\\:p$"
   ]
  },
  {
   "cell_type": "code",
   "execution_count": 50,
   "metadata": {},
   "outputs": [],
   "source": [
    "a = 2\n",
    "y = 77\n",
    "p = 101\n",
    "# x = ?"
   ]
  },
  {
   "cell_type": "code",
   "execution_count": 121,
   "metadata": {},
   "outputs": [],
   "source": [
    "from math import sqrt\n",
    "import numpy as np\n",
    "import pandas as pd\n",
    "\n",
    "def giant_baby(a, y, p):\n",
    "    n = int(sqrt(p-1)) + 1\n",
    "    table = np.ones((n, 2))\n",
    "    \n",
    "    #a_initial = pow_mod(a,(-n-1)%p, p)\n",
    "    a_initial = pow(pow_mod(a, n, p),-1, p)\n",
    "    table[0][1] = y*a_initial % p\n",
    "    for i in range(2, n+1):\n",
    "        # B entry\n",
    "        table[i-1][0] = pow_mod(a, i, p)\n",
    "        # G entry\n",
    "        last_g = table[i-2][1]\n",
    "        table[i-1][1] = last_g*a_initial % p\n",
    "    table = table.astype('int32')\n",
    "    table_df = pd.DataFrame(table, columns=[\"B[i]\", \"G[i]\"], index=list(range(1,n+1)))\n",
    "    table_df.index.name = \"i\"\n",
    "    return table_df"
   ]
  },
  {
   "cell_type": "code",
   "execution_count": 122,
   "metadata": {},
   "outputs": [
    {
     "data": {
      "text/html": [
       "<div>\n",
       "<style scoped>\n",
       "    .dataframe tbody tr th:only-of-type {\n",
       "        vertical-align: middle;\n",
       "    }\n",
       "\n",
       "    .dataframe tbody tr th {\n",
       "        vertical-align: top;\n",
       "    }\n",
       "\n",
       "    .dataframe thead th {\n",
       "        text-align: right;\n",
       "    }\n",
       "</style>\n",
       "<table border=\"1\" class=\"dataframe\">\n",
       "  <thead>\n",
       "    <tr style=\"text-align: right;\">\n",
       "      <th></th>\n",
       "      <th>B[i]</th>\n",
       "      <th>G[i]</th>\n",
       "    </tr>\n",
       "    <tr>\n",
       "      <th>i</th>\n",
       "      <th></th>\n",
       "      <th></th>\n",
       "    </tr>\n",
       "  </thead>\n",
       "  <tbody>\n",
       "    <tr>\n",
       "      <th>1</th>\n",
       "      <td>1</td>\n",
       "      <td>28</td>\n",
       "    </tr>\n",
       "    <tr>\n",
       "      <th>2</th>\n",
       "      <td>4</td>\n",
       "      <td>1</td>\n",
       "    </tr>\n",
       "    <tr>\n",
       "      <th>3</th>\n",
       "      <td>8</td>\n",
       "      <td>83</td>\n",
       "    </tr>\n",
       "    <tr>\n",
       "      <th>4</th>\n",
       "      <td>16</td>\n",
       "      <td>21</td>\n",
       "    </tr>\n",
       "    <tr>\n",
       "      <th>5</th>\n",
       "      <td>32</td>\n",
       "      <td>26</td>\n",
       "    </tr>\n",
       "    <tr>\n",
       "      <th>6</th>\n",
       "      <td>64</td>\n",
       "      <td>37</td>\n",
       "    </tr>\n",
       "    <tr>\n",
       "      <th>7</th>\n",
       "      <td>27</td>\n",
       "      <td>41</td>\n",
       "    </tr>\n",
       "    <tr>\n",
       "      <th>8</th>\n",
       "      <td>54</td>\n",
       "      <td>70</td>\n",
       "    </tr>\n",
       "    <tr>\n",
       "      <th>9</th>\n",
       "      <td>7</td>\n",
       "      <td>53</td>\n",
       "    </tr>\n",
       "    <tr>\n",
       "      <th>10</th>\n",
       "      <td>14</td>\n",
       "      <td>56</td>\n",
       "    </tr>\n",
       "    <tr>\n",
       "      <th>11</th>\n",
       "      <td>28</td>\n",
       "      <td>2</td>\n",
       "    </tr>\n",
       "  </tbody>\n",
       "</table>\n",
       "</div>"
      ],
      "text/plain": [
       "    B[i]  G[i]\n",
       "i             \n",
       "1      1    28\n",
       "2      4     1\n",
       "3      8    83\n",
       "4     16    21\n",
       "5     32    26\n",
       "6     64    37\n",
       "7     27    41\n",
       "8     54    70\n",
       "9      7    53\n",
       "10    14    56\n",
       "11    28     2"
      ]
     },
     "execution_count": 122,
     "metadata": {},
     "output_type": "execute_result"
    }
   ],
   "source": [
    "giant_baby(a, y, p)"
   ]
  },
  {
   "cell_type": "markdown",
   "metadata": {},
   "source": [
    "# Exam"
   ]
  },
  {
   "cell_type": "markdown",
   "metadata": {},
   "source": [
    "## Problem 1"
   ]
  },
  {
   "cell_type": "code",
   "execution_count": 123,
   "metadata": {},
   "outputs": [
    {
     "name": "stdout",
     "output_type": "stream",
     "text": [
      "squares mod 13: {0, 1, 3, 4, 9, 10, 12}\n",
      "\n",
      "dict mapping squares --> list of square roots\n",
      " 0: [0]\n",
      " 1: [1, 12]\n",
      " 4: [2, 11]\n",
      " 9: [3, 10]\n",
      " 3: [4, 9]\n",
      "12: [5, 8]\n",
      "10: [6, 7]\n"
     ]
    },
    {
     "data": {
      "text/plain": [
       "{0: [0], 1: [1, 12], 4: [2, 11], 9: [3, 10], 3: [4, 9], 12: [5, 8], 10: [6, 7]}"
      ]
     },
     "execution_count": 123,
     "metadata": {},
     "output_type": "execute_result"
    }
   ],
   "source": [
    "def print_squares(p):\n",
    "    l = []\n",
    "    for i in range(0, (p-1)//2 + 1):\n",
    "        square = pow(i, 2, p)\n",
    "        pos_item = (i, square)\n",
    "        l.append(pos_item)\n",
    "        if i != 0:\n",
    "            neg_item = (p-i, square)\n",
    "            l.append(neg_item)\n",
    "    squares = set([item[1] for item in l])\n",
    "    print(f'squares mod {p}: {squares}\\n')\n",
    "    \n",
    "    square_roots = dict(zip(squares, []*len(squares)))\n",
    "    for num, square in l:\n",
    "        if not square_roots.get(square):\n",
    "            square_roots[square] = []\n",
    "        square_roots[square].append(num)\n",
    "\n",
    "    print('dict mapping squares --> list of square roots')\n",
    "    for square, roots in square_roots.items():\n",
    "        print(f'{square:2}: {roots}')\n",
    "    return square_roots\n",
    "\n",
    "print_squares(13)"
   ]
  },
  {
   "cell_type": "markdown",
   "metadata": {},
   "source": [
    "## Problem 2"
   ]
  },
  {
   "cell_type": "code",
   "execution_count": 141,
   "metadata": {},
   "outputs": [],
   "source": [
    "n = 58014043\n",
    "x = 18059241"
   ]
  },
  {
   "cell_type": "code",
   "execution_count": 142,
   "metadata": {},
   "outputs": [
    {
     "name": "stdout",
     "output_type": "stream",
     "text": [
      "b is 0, Bob responds:  True\n"
     ]
    }
   ],
   "source": [
    "# Trial 0\n",
    "\n",
    "y = 3965911\n",
    "b = 0\n",
    "z = 18763\n",
    "if b==0:\n",
    "    print(\"b is 0, Bob responds: \",pow(z,2, n) == (y % n))\n",
    "else:\n",
    "    print(\"b is 1, Bob responds: \", pow(z,2, n) == (x*y % n))"
   ]
  },
  {
   "cell_type": "code",
   "execution_count": 143,
   "metadata": {},
   "outputs": [
    {
     "name": "stdout",
     "output_type": "stream",
     "text": [
      "b is 1, Bob responds:  True\n"
     ]
    }
   ],
   "source": [
    "# Trial 1\n",
    "\n",
    "y = 48963613\n",
    "b = 1\n",
    "z = 32270779\n",
    "if b==0:\n",
    "    print(\"b is 0, Bob responds: \",pow(z,2, n) == (y % n))\n",
    "else:\n",
    "    print(\"b is 1, Bob responds: \", pow(z,2, n) == (x*y % n))"
   ]
  },
  {
   "cell_type": "code",
   "execution_count": 144,
   "metadata": {},
   "outputs": [
    {
     "name": "stdout",
     "output_type": "stream",
     "text": [
      "b is 1, Bob responds:  True\n"
     ]
    }
   ],
   "source": [
    "# Trial 2\n",
    "\n",
    "y = 8302702\n",
    "b = 1\n",
    "z = 767595\n",
    "if b==0:\n",
    "    print(\"b is 0, Bob responds: \",pow(z,2, n) == (y % n))\n",
    "else:\n",
    "    print(\"b is 1, Bob responds: \", pow(z,2, n) == (x*y % n))"
   ]
  },
  {
   "cell_type": "code",
   "execution_count": 146,
   "metadata": {},
   "outputs": [
    {
     "name": "stdout",
     "output_type": "stream",
     "text": [
      "b is 0, Bob responds:  True\n"
     ]
    }
   ],
   "source": [
    "# Trial 3\n",
    "\n",
    "y = 50014686\n",
    "b = 0\n",
    "z = 976657\n",
    "if b==0:\n",
    "    print(\"b is 0, Bob responds: \",pow(z,2, n) == (y % n))\n",
    "else:\n",
    "    print(\"b is 1, Bob responds: \", pow(z,2, n) == (x*y % n))"
   ]
  },
  {
   "cell_type": "markdown",
   "metadata": {},
   "source": [
    "## Problem 4"
   ]
  },
  {
   "cell_type": "code",
   "execution_count": 178,
   "metadata": {},
   "outputs": [
    {
     "name": "stdout",
     "output_type": "stream",
     "text": [
      "-1\n",
      "1\n",
      "1.0\n",
      "1\n",
      "1\n",
      "47\n",
      "2\n",
      "-1\n"
     ]
    }
   ],
   "source": [
    "prime_factors(795)\n",
    "print((-1)**(1530//2))\n",
    "print(1531 % 3)\n",
    "print((-1)**(1530/2*2))\n",
    "print(1531%5)\n",
    "print((-1)**(1530//2*52//2))\n",
    "print(1531 % 53)\n",
    "print(47%3)\n",
    "print(jacobi(795, 1531))"
   ]
  },
  {
   "cell_type": "code",
   "execution_count": 193,
   "metadata": {},
   "outputs": [
    {
     "name": "stdout",
     "output_type": "stream",
     "text": [
      "[(41, 1)]\n",
      "[(79, 1)]\n",
      "1\n",
      "38\n",
      "[(2, 1), (19, 1)]\n",
      "[(19, 1)]\n",
      "1\n",
      "1\n",
      "3\n",
      "1\n",
      "-1\n"
     ]
    }
   ],
   "source": [
    "print(prime_factors(41))\n",
    "print(prime_factors(79))\n",
    "print((-1)**((78//2)*(40//2)))\n",
    "print(79 % 41)\n",
    "print(prime_factors(38))\n",
    "print(prime_factors(19))\n",
    "print((-1)**(((41**2)-1)//8))\n",
    "print((-1)**((18//2)*(40//2)))\n",
    "print(41 % 19)\n",
    "print(19 % 3)\n",
    "print(jacobi(41,79))"
   ]
  },
  {
   "cell_type": "code",
   "execution_count": null,
   "metadata": {},
   "outputs": [],
   "source": []
  }
 ],
 "metadata": {
  "kernelspec": {
   "display_name": "Python 3",
   "language": "python",
   "name": "python3"
  },
  "language_info": {
   "codemirror_mode": {
    "name": "ipython",
    "version": 3
   },
   "file_extension": ".py",
   "mimetype": "text/x-python",
   "name": "python",
   "nbconvert_exporter": "python",
   "pygments_lexer": "ipython3",
   "version": "3.8.3"
  }
 },
 "nbformat": 4,
 "nbformat_minor": 4
}
