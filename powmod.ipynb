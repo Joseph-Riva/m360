{
 "cells": [
  {
   "cell_type": "code",
   "execution_count": 17,
   "metadata": {},
   "outputs": [],
   "source": [
    "def pow_mod(base, exp, b=1, p=1):\n",
    "    '''computes base**exp % p'''\n",
    "    print(f'pow_mod(base={base},exp={exp},b={b},p={p})')\n",
    "        \n",
    "    if exp==1:\n",
    "        ans = base*b % p\n",
    "        print(f'done->{ans}')\n",
    "        return ans\n",
    "    elif exp%2==0:\n",
    "        return pow_mod(base**2 % p, exp//2, b, p)\n",
    "    return pow_mod(base**2 % p, (exp-1)//2, base*b % p, p)\n",
    "    "
   ]
  },
  {
   "cell_type": "code",
   "execution_count": 18,
   "metadata": {},
   "outputs": [
    {
     "name": "stdout",
     "output_type": "stream",
     "text": [
      "pow_mod(base=6,exp=50,b=1,p=251)\n",
      "pow_mod(base=36,exp=25,b=1,p=251)\n",
      "pow_mod(base=41,exp=12,b=36,p=251)\n",
      "pow_mod(base=175,exp=6,b=36,p=251)\n",
      "pow_mod(base=3,exp=3,b=36,p=251)\n",
      "pow_mod(base=9,exp=1,b=108,p=251)\n",
      "done->219\n"
     ]
    }
   ],
   "source": [
    "assert pow_mod(6,50,1,251) == 219\n"
   ]
  },
  {
   "cell_type": "code",
   "execution_count": null,
   "metadata": {},
   "outputs": [],
   "source": []
  }
 ],
 "metadata": {
  "kernelspec": {
   "display_name": "Python 3",
   "language": "python",
   "name": "python3"
  },
  "language_info": {
   "codemirror_mode": {
    "name": "ipython",
    "version": 3
   },
   "file_extension": ".py",
   "mimetype": "text/x-python",
   "name": "python",
   "nbconvert_exporter": "python",
   "pygments_lexer": "ipython3",
   "version": "3.7.6"
  }
 },
 "nbformat": 4,
 "nbformat_minor": 4
}
