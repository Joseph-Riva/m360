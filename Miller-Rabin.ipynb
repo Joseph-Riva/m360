{
 "cells": [
  {
   "cell_type": "code",
   "execution_count": 23,
   "metadata": {},
   "outputs": [],
   "source": [
    "from random import randint\n",
    "from scripts.factor import prime_factors\n",
    "from math import log2\n",
    "from scripts.gcd import gcd\n",
    "def get_ms(n):\n",
    "    ''' returns m, s such that n-1 == 2**s * m'''\n",
    "    # n_1 = n-1\n",
    "    n_1 = n-1\n",
    "    s = 0\n",
    "    while n_1 % 2 == 0:\n",
    "        s += 1\n",
    "        n_1 = n_1//2\n",
    "    m = n // (2**s)\n",
    "    return m, s\n",
    "\n",
    "def mb_prime(n):\n",
    "    m, s = get_ms(n)\n",
    "    \n",
    "    a = randint(2, int(n**(0.5)))\n",
    "    while gcd(a, n) != 1:\n",
    "        a = randint(2, int(n**0.5))\n",
    "\n",
    "    print(f'm = {m}, s = {s}, a={a}')\n",
    "    # b_0 = a**m mod n\n",
    "    b = pow(a, m, n)\n",
    "    print(f'initial {a}**{m} mod {n} == {b}')\n",
    "    if abs(b) == 1:\n",
    "        print()\n",
    "        return False\n",
    "    \n",
    "    for i in range(1, s):\n",
    "        b_n = pow(b, 2, n)\n",
    "        print(f'{b}**{2} mod {n} == {b_n}')\n",
    "        if b_n == 560:\n",
    "            print('test is inconclusive')\n",
    "            return True\n",
    "        if b_n == 1:\n",
    "            print('not prime!')\n",
    "            return False\n",
    "        b = b_n\n",
    "    print('test is inconclusive')\n",
    "    return True"
   ]
  },
  {
   "cell_type": "code",
   "execution_count": 24,
   "metadata": {},
   "outputs": [
    {
     "name": "stdout",
     "output_type": "stream",
     "text": [
      "m = 643, s = 4, a=10\n",
      "initial 10**643 mod 10289 == 3400\n",
      "3400**2 mod 10289 == 5453\n",
      "5453**2 mod 10289 == 10288\n",
      "10288**2 mod 10289 == 1\n",
      "not prime!\n"
     ]
    },
    {
     "data": {
      "text/plain": [
       "False"
      ]
     },
     "execution_count": 24,
     "metadata": {},
     "output_type": "execute_result"
    }
   ],
   "source": [
    "mb_prime(10289)"
   ]
  },
  {
   "cell_type": "code",
   "execution_count": null,
   "metadata": {},
   "outputs": [],
   "source": [
    "560 // (2**4)"
   ]
  },
  {
   "cell_type": "code",
   "execution_count": null,
   "metadata": {},
   "outputs": [],
   "source": []
  }
 ],
 "metadata": {
  "kernelspec": {
   "display_name": "Python 3",
   "language": "python",
   "name": "python3"
  },
  "language_info": {
   "codemirror_mode": {
    "name": "ipython",
    "version": 3
   },
   "file_extension": ".py",
   "mimetype": "text/x-python",
   "name": "python",
   "nbconvert_exporter": "python",
   "pygments_lexer": "ipython3",
   "version": "3.7.6"
  }
 },
 "nbformat": 4,
 "nbformat_minor": 5
}
