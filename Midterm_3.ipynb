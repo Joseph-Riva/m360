{
 "cells": [
  {
   "cell_type": "code",
   "execution_count": 2,
   "metadata": {},
   "outputs": [],
   "source": [
    "class A_Polynomial:\n",
    "    ''' Abstract Polynomial Base Class'''\n",
    "    def get_degree(self):\n",
    "        ''' returns leading coefficient '''\n",
    "        val_str = bin(self.val)\n",
    "        # remove 0b prefix from string\n",
    "        val_str = val_str[2:]\n",
    "        for i in range(len(val_str)):\n",
    "            if(val_str[i] == '1'):\n",
    "                return len(val_str)-1 - i\n",
    "        return 0\n",
    "        \n",
    "    def __str__(self):\n",
    "        result = ''\n",
    "        # trim leading 0b\n",
    "        str_val = bin(self.val)[2:]\n",
    "        for i, val in enumerate(str_val):\n",
    "            cur_degree = self.get_degree()-i\n",
    "            if val == '1':\n",
    "                result += f'x^{cur_degree} +' \n",
    "        # trim leading plus\n",
    "        result = result[0:-1]\n",
    "        return result + f', bin: {bin(self.val)}, dec: {self.val}'\n",
    "    \n"
   ]
  },
  {
   "cell_type": "code",
   "execution_count": 3,
   "metadata": {},
   "outputs": [],
   "source": [
    "class IrreducablePolynomial(A_Polynomial):\n",
    "    irreducable_polys = {\n",
    "        4: 0b111,\n",
    "        8: 0b1101,\n",
    "        16: 0b11001\n",
    "    }\n",
    "    def __init__(self, field_num: int):\n",
    "        ''' field_num - size of the field we want to use'''\n",
    "        self.val = self.irreducable_polys.get(field_num, -1)\n",
    "        if self.val == -1:\n",
    "            raise Exception('No Binary Field of That Size Exists.')\n",
    "        self.degree = None"
   ]
  },
  {
   "cell_type": "code",
   "execution_count": 54,
   "metadata": {},
   "outputs": [],
   "source": [
    "from copy import deepcopy\n",
    "from math import log\n",
    "\n",
    "class Polynomial(A_Polynomial):\n",
    "    def __init__(self, val: int, poly: IrreducablePolynomial, log=False):\n",
    "        '''\n",
    "            polynomial mod 2\n",
    "            val - value of this polynomial as bit string\n",
    "            poly - irreducible polynomial to mod by\n",
    "        '''\n",
    "        self.val = val\n",
    "        self.poly = poly\n",
    "        self.log = log\n",
    "        self.degree = None\n",
    "    \n",
    "    def __add__(self, other):\n",
    "        ''' xor this val with others val then mod by poly'''\n",
    "        result = self.val ^ other.val\n",
    "        return Polynomial(result, self.poly) % self.poly\n",
    "    \n",
    "    def __mul__(self, other):\n",
    "        product = 0\n",
    "        str_val = bin(other.val)[2:]\n",
    "        for i, val in enumerate(str_val):\n",
    "            if val == \"1\":\n",
    "                shift = len(str_val)-1-i\n",
    "                val_shifted = self.val << shift\n",
    "                product ^= val_shifted\n",
    "        #print(f'product: {bin(product)}')\n",
    "        return Polynomial(product, poly=self.poly) % self.poly\n",
    "    \n",
    "    def pow_mod(self, base, exp, p, b):\n",
    "        '''computes base**exp % p'''\n",
    "        if exp==1:\n",
    "            ans = base*b % p\n",
    "            print(type(ans))\n",
    "            return ans\n",
    "        elif exp%2==0:\n",
    "            return self.pow_mod(base*base % p, exp//2, p, b)\n",
    "        return self.pow_mod(base*base % p, (exp-1)//2, p, base*b % p)\n",
    "    \n",
    "    def __pow__(self, power):\n",
    "#         product = self\n",
    "#         for i in range(1,power):\n",
    "#             product *= self\n",
    "#         return product\n",
    "        return self.pow_mod(base=self, exp=power, p=self.poly, b=Polynomial(0b1, self.poly))\n",
    "\n",
    "    def __mod__(self, other: IrreducablePolynomial):\n",
    "        ''' other is an irreducable polynomial'''\n",
    "        this = deepcopy(self)\n",
    "        other = deepcopy(other)\n",
    "        #print(f'this: {this}, irreducable: {other}')\n",
    "        while(this.get_degree() >= other.get_degree()):\n",
    "            #print(f'this_degree: {this.get_degree()}, irreducabledeg: {other.get_degree()}')\n",
    "            diff_degree = this.get_degree() - other.get_degree()\n",
    "            #print(f'this: {this}, irreducable: {other}')\n",
    "            #print(f'diff_degree: {diff_degree}')\n",
    "            #print(f'old_val: {this.val}')\n",
    "            #print(f'{bin(this.val)} ^ {bin(other.val<<diff_degree)}')\n",
    "            this.val = this.val ^ (other.val<<diff_degree)\n",
    "            #print(f'new_val: {this.val}\\n')\n",
    "        return Polynomial(this.val, self.poly)\n",
    "    def frobenius(self):\n",
    "        return self**2\n",
    "#     def trace(self):\n",
    "#         tr(8) in F16 = 8 + 8^2 + 8^4 + 8^8\n",
    "#         times = log(self.poly.val, 2)\n",
    "#         times = int(times)-1\n",
    "#         print(times)\n",
    "#         res_sum = self\n",
    "#         result = self\n",
    "#         for i in range(times):\n",
    "#             res_sum += result\n",
    "#             result = result.frobenius()\n",
    "#         return res_sum"
   ]
  },
  {
   "cell_type": "code",
   "execution_count": 55,
   "metadata": {},
   "outputs": [
    {
     "name": "stdout",
     "output_type": "stream",
     "text": [
      "p1-> degree of x^5 +x^2 +x^0 , bin: 0b100101, dec: 37\n",
      "p2-> degree of x^2 , bin: 0b100, dec: 4\n",
      "p1 + p2 % F16= x^3 +x^1 , bin: 0b1010, dec: 10\n"
     ]
    }
   ],
   "source": [
    "# test get_leading and add\n",
    "irred = IrreducablePolynomial(16)\n",
    "p1 = Polynomial(val=0b100101,poly=irred)\n",
    "p2 = Polynomial(val=0b100,poly=irred)\n",
    "print(f'p1-> degree of {p1}')\n",
    "print(f'p2-> degree of {p2}')\n",
    "print(f'p1 + p2 % F16= {p1 + p2}')"
   ]
  },
  {
   "cell_type": "code",
   "execution_count": 56,
   "metadata": {},
   "outputs": [
    {
     "name": "stdout",
     "output_type": "stream",
     "text": [
      "p1 % irred = x^2 +x^0 , bin: 0b101, dec: 5\n"
     ]
    }
   ],
   "source": [
    "# mod test\n",
    "irred = IrreducablePolynomial(16)\n",
    "p1 = Polynomial(val=0b1111000,poly=irred)\n",
    "#print(f'p1-> degree of {p1}: {p1.get_degree()}')\n",
    "#print(f'p2-> degree of {p2}: {p2.get_degree()}')\n",
    "print(f'p1 % irred = {p1 % p1.poly}')"
   ]
  },
  {
   "cell_type": "code",
   "execution_count": 57,
   "metadata": {},
   "outputs": [
    {
     "name": "stdout",
     "output_type": "stream",
     "text": [
      "p1 * p2 = x^2 +x^0 , bin: 0b101, dec: 5\n"
     ]
    }
   ],
   "source": [
    "# test multiply\n",
    "irred = IrreducablePolynomial(16)\n",
    "p1 = Polynomial(val=0b1000,poly=irred)\n",
    "p2 = Polynomial(val=0b1111,poly=irred)\n",
    "print(f'p1 * p2 = {p1 * p2}')"
   ]
  },
  {
   "cell_type": "code",
   "execution_count": 58,
   "metadata": {},
   "outputs": [
    {
     "name": "stdout",
     "output_type": "stream",
     "text": [
      "type of poly: <class '__main__.IrreducablePolynomial'>, type of exp: <class 'int'>, type of p:<class '__main__.IrreducablePolynomial'>, type of b: <class '__main__.Polynomial'>\n",
      "type of poly: <class '__main__.IrreducablePolynomial'>, type of exp: <class 'int'>, type of p:<class '__main__.IrreducablePolynomial'>, type of b: <class '__main__.Polynomial'>\n",
      "<class '__main__.Polynomial'>\n",
      "x^3 +x^2 +x^1 +x^0 , bin: 0b1111, dec: 15\n"
     ]
    }
   ],
   "source": [
    "# test power\n",
    "p1 = Polynomial(val=0b1000,poly=irred)\n",
    "print(p1**2)"
   ]
  },
  {
   "cell_type": "code",
   "execution_count": 8,
   "metadata": {},
   "outputs": [
    {
     "name": "stdout",
     "output_type": "stream",
     "text": [
      "x^3 +x^2 +x^1 +x^0 , bin: 0b1111, dec: 15\n"
     ]
    }
   ],
   "source": [
    "irred = IrreducablePolynomial(16)\n",
    "p1 = Polynomial(val=0b1000, poly=irred)\n",
    "print(p1.frobenius())"
   ]
  },
  {
   "cell_type": "code",
   "execution_count": 9,
   "metadata": {},
   "outputs": [
    {
     "name": "stdout",
     "output_type": "stream",
     "text": [
      "p1 * p2 = x^3 +x^2 +x^0 , bin: 0b1101, dec: 13\n"
     ]
    }
   ],
   "source": [
    "irred = IrreducablePolynomial(16)\n",
    "p1 = Polynomial(val=0b1011,poly=irred)\n",
    "p2 = Polynomial(val=0b1111,poly=irred)\n",
    "print(f'p1 * p2 = {p1 * p2}')"
   ]
  },
  {
   "cell_type": "markdown",
   "metadata": {},
   "source": [
    "## Squares"
   ]
  },
  {
   "cell_type": "code",
   "execution_count": 33,
   "metadata": {},
   "outputs": [],
   "source": [
    "def print_squares(p):\n",
    "    l = []\n",
    "    for i in range(0, (p-1)//2 + 1):\n",
    "        square = pow(i, 2, p)\n",
    "        pos_item = (i, square)\n",
    "        l.append(pos_item)\n",
    "        if i != 0:\n",
    "            neg_item = (p-i, square)\n",
    "            l.append(neg_item)\n",
    "    squares = set([item[1] for item in l])\n",
    "    print(f'squares mod {p}: {squares}\\n')\n",
    "    \n",
    "    square_roots = dict(zip(squares, []*len(squares)))\n",
    "    for num, square in l:\n",
    "        if not square_roots.get(square):\n",
    "            square_roots[square] = []\n",
    "        square_roots[square].append(num)\n",
    "\n",
    "    print('dict mapping squares --> list of square roots')\n",
    "    for square, roots in square_roots.items():\n",
    "        print(f'{square:2}: {roots}')\n",
    "    return square_roots"
   ]
  },
  {
   "cell_type": "code",
   "execution_count": 34,
   "metadata": {},
   "outputs": [
    {
     "name": "stdout",
     "output_type": "stream",
     "text": [
      "squares mod 13: {0, 1, 3, 4, 9, 10, 12}\n",
      "\n",
      "dict mapping squares --> list of square roots\n",
      " 0: [0]\n",
      " 1: [1, 12]\n",
      " 4: [2, 11]\n",
      " 9: [3, 10]\n",
      " 3: [4, 9]\n",
      "12: [5, 8]\n",
      "10: [6, 7]\n"
     ]
    }
   ],
   "source": [
    "print_squares(13);"
   ]
  },
  {
   "cell_type": "markdown",
   "metadata": {},
   "source": [
    "## Fermat Factorization"
   ]
  },
  {
   "cell_type": "code",
   "execution_count": 12,
   "metadata": {},
   "outputs": [],
   "source": [
    "from math import sqrt\n",
    "def get_factor(n):\n",
    "    #(y, sqrt(n+y**2)) where second expression is an integer\n",
    "    pair = (0,0)\n",
    "    for y in range(1,21):\n",
    "        item = (y, sqrt(n+y**2))\n",
    "        val = item[1]\n",
    "        if(int(val) == val):\n",
    "            pair = item\n",
    "            break\n",
    "    if pair == (0,0):\n",
    "        raise Exception('no factor found')\n",
    "    y, x = pair\n",
    "    factors = (int(x+y), int(x-y))\n",
    "    return factors"
   ]
  },
  {
   "cell_type": "code",
   "execution_count": 13,
   "metadata": {},
   "outputs": [
    {
     "data": {
      "text/plain": [
       "(7901, 7879)"
      ]
     },
     "execution_count": 13,
     "metadata": {},
     "output_type": "execute_result"
    }
   ],
   "source": [
    "n = 62_251_979\n",
    "get_factor(n)"
   ]
  },
  {
   "cell_type": "code",
   "execution_count": 14,
   "metadata": {},
   "outputs": [],
   "source": [
    "# Quadratic - two solutions if trace(ac/b^2) = 0, b != 0\n",
    "# Cyclic - 2**(k) for k 0,...,p-1 in F_p"
   ]
  },
  {
   "cell_type": "markdown",
   "metadata": {},
   "source": [
    "## Midterm"
   ]
  },
  {
   "cell_type": "markdown",
   "metadata": {},
   "source": [
    "### Problem 1"
   ]
  },
  {
   "cell_type": "markdown",
   "metadata": {},
   "source": [
    "#### a.)"
   ]
  },
  {
   "cell_type": "code",
   "execution_count": 15,
   "metadata": {},
   "outputs": [
    {
     "name": "stdout",
     "output_type": "stream",
     "text": [
      "x^2 , bin: 0b100, dec: 4\n"
     ]
    }
   ],
   "source": [
    "irred = IrreducablePolynomial(16)\n",
    "p1 = Polynomial(val=9, poly=irred)\n",
    "p2 = Polynomial(val=13, poly=irred)\n",
    "print(p1+p2)"
   ]
  },
  {
   "cell_type": "markdown",
   "metadata": {},
   "source": [
    "#### b.)"
   ]
  },
  {
   "cell_type": "code",
   "execution_count": 16,
   "metadata": {},
   "outputs": [
    {
     "name": "stdout",
     "output_type": "stream",
     "text": [
      "x^0 , bin: 0b1, dec: 1\n"
     ]
    }
   ],
   "source": [
    "print(p1*p2)"
   ]
  },
  {
   "cell_type": "markdown",
   "metadata": {},
   "source": [
    "#### c.)"
   ]
  },
  {
   "cell_type": "code",
   "execution_count": 17,
   "metadata": {},
   "outputs": [
    {
     "name": "stdout",
     "output_type": "stream",
     "text": [
      "x^3 +x^1 +x^0 , bin: 0b1011, dec: 11\n"
     ]
    }
   ],
   "source": [
    "p3 = Polynomial(val=7, poly=irred)\n",
    "print(p3**5)"
   ]
  },
  {
   "cell_type": "code",
   "execution_count": 18,
   "metadata": {},
   "outputs": [
    {
     "name": "stdout",
     "output_type": "stream",
     "text": [
      "x^2 +x^1 +x^0 , bin: 0b111, dec: 7\n",
      "x^3 +x^2 , bin: 0b1100, dec: 12\n",
      "x^2 +x^1 , bin: 0b110, dec: 6\n",
      "x^3 +x^1 +x^0 , bin: 0b1011, dec: 11\n"
     ]
    }
   ],
   "source": [
    "print(p3)\n",
    "print(p3**2)\n",
    "print(p3**4)\n",
    "print(p3**5)"
   ]
  },
  {
   "cell_type": "markdown",
   "metadata": {},
   "source": [
    "### Problem 2"
   ]
  },
  {
   "cell_type": "markdown",
   "metadata": {},
   "source": [
    "#### a.)"
   ]
  },
  {
   "cell_type": "code",
   "execution_count": 20,
   "metadata": {},
   "outputs": [
    {
     "name": "stdout",
     "output_type": "stream",
     "text": [
      "x^2 +x^0 , bin: 0b101, dec: 5\n"
     ]
    }
   ],
   "source": [
    "irred = IrreducablePolynomial(16)\n",
    "p1 = Polynomial(val=6, poly=irred)\n",
    "p2 = Polynomial(val=5, poly=irred)\n",
    "print((p1+p2)**2)"
   ]
  },
  {
   "cell_type": "markdown",
   "metadata": {},
   "source": [
    "#### b.)"
   ]
  },
  {
   "cell_type": "code",
   "execution_count": 21,
   "metadata": {},
   "outputs": [
    {
     "name": "stdout",
     "output_type": "stream",
     "text": [
      "x^3 +x^0 , bin: 0b1001, dec: 9\n",
      "x^3 , bin: 0b1000, dec: 8\n",
      "x^0 , bin: 0b1, dec: 1\n"
     ]
    }
   ],
   "source": [
    "irred = IrreducablePolynomial(16)\n",
    "p1 = Polynomial(val=4, poly=irred)\n",
    "p2 = Polynomial(val=5, poly=irred)\n",
    "print(p1**2)\n",
    "print(p2**2)\n",
    "print((p1+p2)**2)"
   ]
  },
  {
   "cell_type": "markdown",
   "metadata": {},
   "source": [
    "#### c.)"
   ]
  },
  {
   "cell_type": "code",
   "execution_count": 22,
   "metadata": {},
   "outputs": [
    {
     "name": "stdout",
     "output_type": "stream",
     "text": [
      "x^3 , bin: 0b1000, dec: 8\n"
     ]
    }
   ],
   "source": [
    "irred = IrreducablePolynomial(16)\n",
    "p1 = Polynomial(val=15, poly=irred)\n",
    "print(p1**8)"
   ]
  },
  {
   "cell_type": "code",
   "execution_count": 23,
   "metadata": {},
   "outputs": [
    {
     "name": "stdout",
     "output_type": "stream",
     "text": [
      "x^1 +x^0 , bin: 0b11, dec: 3\n",
      "x^2 +x^0 , bin: 0b101, dec: 5\n",
      "x^3 , bin: 0b1000, dec: 8\n"
     ]
    }
   ],
   "source": [
    "print(p1**2)\n",
    "print(p1**4)\n",
    "print(p1**8)"
   ]
  },
  {
   "cell_type": "code",
   "execution_count": 24,
   "metadata": {},
   "outputs": [
    {
     "name": "stdout",
     "output_type": "stream",
     "text": [
      "x^2 +x^0 , bin: 0b101, dec: 5\n"
     ]
    }
   ],
   "source": [
    "p1 = Polynomial(val=3, poly=irred)\n",
    "print(p1**2)"
   ]
  },
  {
   "cell_type": "markdown",
   "metadata": {},
   "source": [
    "### Problem 3"
   ]
  },
  {
   "cell_type": "markdown",
   "metadata": {},
   "source": [
    "#### a.)"
   ]
  },
  {
   "cell_type": "code",
   "execution_count": 55,
   "metadata": {},
   "outputs": [
    {
     "name": "stdout",
     "output_type": "stream",
     "text": [
      "squares mod 11: {0, 1, 3, 4, 5, 9}\n",
      "\n",
      "dict mapping squares --> list of square roots\n",
      " 0: [0]\n",
      " 1: [1, 10]\n",
      " 4: [2, 9]\n",
      " 9: [3, 8]\n",
      " 5: [4, 7]\n",
      " 3: [5, 6]\n"
     ]
    },
    {
     "data": {
      "text/plain": [
       "{0: [0], 1: [1, 10], 4: [2, 9], 9: [3, 8], 5: [4, 7], 3: [5, 6]}"
      ]
     },
     "execution_count": 55,
     "metadata": {},
     "output_type": "execute_result"
    }
   ],
   "source": [
    "square_dict = print_squares(11)\n",
    "square_dict"
   ]
  },
  {
   "cell_type": "markdown",
   "metadata": {},
   "source": [
    "#### b.)"
   ]
  },
  {
   "cell_type": "code",
   "execution_count": 56,
   "metadata": {},
   "outputs": [],
   "source": [
    "l = []\n",
    "for x in range(11):\n",
    "    cur_val = (x**3 + 5*x + 2) % 11\n",
    "    if cur_val not in square_dict.keys():\n",
    "        continue\n",
    "    y = square_dict[cur_val]\n",
    "    for root in y:\n",
    "        l.append((x, root))"
   ]
  },
  {
   "cell_type": "code",
   "execution_count": 57,
   "metadata": {},
   "outputs": [
    {
     "name": "stdout",
     "output_type": "stream",
     "text": [
      "(2, 3)\n",
      "(2, 8)\n",
      "(3, 0)\n",
      "(4, 3)\n",
      "(4, 8)\n",
      "(5, 3)\n",
      "(5, 8)\n",
      "(8, 2)\n",
      "(8, 9)\n"
     ]
    }
   ],
   "source": [
    "[print(item) for item in l];"
   ]
  },
  {
   "cell_type": "code",
   "execution_count": 58,
   "metadata": {},
   "outputs": [
    {
     "data": {
      "text/plain": [
       "9"
      ]
     },
     "execution_count": 58,
     "metadata": {},
     "output_type": "execute_result"
    }
   ],
   "source": [
    "len(l)"
   ]
  },
  {
   "cell_type": "markdown",
   "metadata": {},
   "source": [
    "### Problem 4"
   ]
  },
  {
   "cell_type": "code",
   "execution_count": 59,
   "metadata": {},
   "outputs": [
    {
     "data": {
      "text/plain": [
       "(1217, 1213)"
      ]
     },
     "execution_count": 59,
     "metadata": {},
     "output_type": "execute_result"
    }
   ],
   "source": [
    "get_factor(1476221)"
   ]
  },
  {
   "cell_type": "code",
   "execution_count": 60,
   "metadata": {},
   "outputs": [
    {
     "data": {
      "text/plain": [
       "1476221"
      ]
     },
     "execution_count": 60,
     "metadata": {},
     "output_type": "execute_result"
    }
   ],
   "source": [
    "1217*1213"
   ]
  },
  {
   "cell_type": "code",
   "execution_count": null,
   "metadata": {},
   "outputs": [],
   "source": []
  }
 ],
 "metadata": {
  "kernelspec": {
   "display_name": "Python 3",
   "language": "python",
   "name": "python3"
  },
  "language_info": {
   "codemirror_mode": {
    "name": "ipython",
    "version": 3
   },
   "file_extension": ".py",
   "mimetype": "text/x-python",
   "name": "python",
   "nbconvert_exporter": "python",
   "pygments_lexer": "ipython3",
   "version": "3.8.3"
  }
 },
 "nbformat": 4,
 "nbformat_minor": 4
}
