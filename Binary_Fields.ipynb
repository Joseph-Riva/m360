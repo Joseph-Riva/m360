{
 "cells": [
  {
   "cell_type": "code",
   "execution_count": 34,
   "metadata": {},
   "outputs": [],
   "source": [
    "class A_Polynomial:\n",
    "    ''' Abstract Polynomial Base Class'''\n",
    "    def get_degree(self):\n",
    "        ''' returns leading coefficient '''\n",
    "        if self.degree:\n",
    "            return self.degree\n",
    "        \n",
    "        val_str = bin(self.val)\n",
    "        # remove 0b prefix from string\n",
    "        val_str = val_str[2:]\n",
    "        for i in range(len(val_str)-1, -1, -1):\n",
    "            if(val_str[i] == '1'):\n",
    "                return i\n",
    "        return 0\n",
    "        \n",
    "    def __str__(self):\n",
    "        result = ''\n",
    "        # trim leading 0b\n",
    "        str_val = bin(self.val)[2:]\n",
    "        for i, val in enumerate(str_val):\n",
    "            cur_degree = self.get_degree() - i\n",
    "            if val == '1':\n",
    "                result = f'+ x**{cur_degree} ' + result\n",
    "        # trim leading plus\n",
    "        result = result[2:]\n",
    "        return result\n",
    "    \n",
    "class IrreducablePolynomial(A_Polynomial):\n",
    "    irreducable_polys = {\n",
    "        4: 0b111,\n",
    "        8: 0b\n",
    "    }\n",
    "    def __init__(self, field_num: int):\n",
    "        ''' field_num - size of the field we want to use'''\n",
    "        self.val = self.irreducable_polys.get(field_num, -1)\n",
    "        if self.val == -1:\n",
    "            raise Exception('No Binary Field of That Size Exists.')\n",
    "        self.degree = None\n",
    "class Polynomial(A_Polynomial):\n",
    "    def __init__(self, val: int, poly: IrreducablePolynomial, log=False):\n",
    "        '''\n",
    "            polynomial mod 2\n",
    "            val - value of this polynomial as bit string\n",
    "            poly - irreducible polynomial to mod by\n",
    "        '''\n",
    "        self.val = val\n",
    "        self.poly = poly\n",
    "        self.log = log\n",
    "        self.degree = None\n",
    "    \n",
    "    def __add__(self, other):\n",
    "        ''' xor this val with others val then mod by poly'''\n",
    "        if log:\n",
    "            self.add_with_log(val, other.val)\n",
    "        result = self.val ^ other.val\n",
    "        return result % poly\n",
    "    \n",
    "    def add_with_log(self, val, other_val):\n",
    "        pass\n",
    "    \n",
    "    def __mod__(self, other: IrreducablePolynomial):\n",
    "        if log:\n",
    "            self.mod_with_log()\n",
    "            \n",
    "        quotient = self.val\n",
    "        while(quotient >= self.poly):\n",
    "            diff_degree = other.degree\n",
    "#     def mod_with_log(self, val, other_val):\n",
    "        "
   ]
  },
  {
   "cell_type": "code",
   "execution_count": 35,
   "metadata": {},
   "outputs": [
    {
     "name": "stdout",
     "output_type": "stream",
     "text": [
      "2\n",
      "x**0 + x**2 \n"
     ]
    }
   ],
   "source": [
    "# test get_leading\n",
    "a = IrreducablePolynomial(4)\n",
    "b = Polynomial(val=0b101,poly=25)\n",
    "print(b.get_degree())\n",
    "print(str(b))"
   ]
  },
  {
   "cell_type": "code",
   "execution_count": null,
   "metadata": {},
   "outputs": [],
   "source": []
  }
 ],
 "metadata": {
  "kernelspec": {
   "display_name": "Python 3",
   "language": "python",
   "name": "python3"
  },
  "language_info": {
   "codemirror_mode": {
    "name": "ipython",
    "version": 3
   },
   "file_extension": ".py",
   "mimetype": "text/x-python",
   "name": "python",
   "nbconvert_exporter": "python",
   "pygments_lexer": "ipython3",
   "version": "3.7.6"
  }
 },
 "nbformat": 4,
 "nbformat_minor": 4
}
