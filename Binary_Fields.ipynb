{
 "cells": [
  {
   "cell_type": "code",
   "execution_count": 5,
   "metadata": {},
   "outputs": [],
   "source": [
    "class A_Polynomial:\n",
    "    ''' Abstract Polynomial Base Class'''\n",
    "    def get_degree(self):\n",
    "        ''' returns leading coefficient '''\n",
    "        val_str = bin(self.val)\n",
    "        # remove 0b prefix from string\n",
    "        val_str = val_str[2:]\n",
    "        for i in range(len(val_str)):\n",
    "            if(val_str[i] == '1'):\n",
    "                return len(val_str)-1 - i\n",
    "        return 0\n",
    "        \n",
    "    def __str__(self):\n",
    "        result = ''\n",
    "        # trim leading 0b\n",
    "        str_val = bin(self.val)[2:]\n",
    "        for i, val in enumerate(str_val):\n",
    "            cur_degree = self.get_degree()-i\n",
    "            if val == '1':\n",
    "                result += f'x^{cur_degree} +' \n",
    "        # trim leading plus\n",
    "        result = result[0:-1]\n",
    "        return result + f', bin: {bin(self.val)}, dec: {self.val}'\n",
    "    \n"
   ]
  },
  {
   "cell_type": "code",
   "execution_count": 6,
   "metadata": {},
   "outputs": [],
   "source": [
    "class IrreducablePolynomial(A_Polynomial):\n",
    "    irreducable_polys = {\n",
    "        4: 0b111,\n",
    "        8: 0b1101,\n",
    "        16: 0b11001\n",
    "    }\n",
    "    def __init__(self, field_num: int):\n",
    "        ''' field_num - size of the field we want to use'''\n",
    "        self.val = self.irreducable_polys.get(field_num, -1)\n",
    "        if self.val == -1:\n",
    "            raise Exception('No Binary Field of That Size Exists.')\n",
    "        self.degree = None"
   ]
  },
  {
   "cell_type": "code",
   "execution_count": 7,
   "metadata": {},
   "outputs": [],
   "source": [
    "from copy import deepcopy\n",
    "from math import log\n",
    "\n",
    "class Polynomial(A_Polynomial):\n",
    "    def __init__(self, val: int, poly: IrreducablePolynomial, log=False):\n",
    "        '''\n",
    "            polynomial mod 2\n",
    "            val - value of this polynomial as bit string\n",
    "            poly - irreducible polynomial to mod by\n",
    "        '''\n",
    "        self.val = val\n",
    "        self.poly = poly\n",
    "        self.log = log\n",
    "        self.degree = None\n",
    "    \n",
    "    def __add__(self, other):\n",
    "        ''' xor this val with others val then mod by poly'''\n",
    "        result = self.val ^ other.val\n",
    "        return Polynomial(result, self.poly) % self.poly\n",
    "    \n",
    "    def __mul__(self, other):\n",
    "        product = 0\n",
    "        str_val = bin(other.val)[2:]\n",
    "        for i, val in enumerate(str_val):\n",
    "            if val == \"1\":\n",
    "                shift = len(str_val)-1-i\n",
    "                val_shifted = self.val << shift\n",
    "                product ^= val_shifted\n",
    "        #print(f'product: {bin(product)}')\n",
    "        return Polynomial(product, poly=self.poly) % self.poly\n",
    "    \n",
    "    def pow_mod(self, base, exp, p, b):\n",
    "        '''computes base**exp % p'''\n",
    "        if exp==1:\n",
    "            ans = base*b % p\n",
    "            print(type(ans))\n",
    "            return ans\n",
    "        elif exp%2==0:\n",
    "            return self.pow_mod(base*base % p, exp//2, p, b)\n",
    "        return self.pow_mod(base*base % p, (exp-1)//2, p, base*b % p)\n",
    "    \n",
    "    def __pow__(self, power):\n",
    "#         product = self\n",
    "#         for i in range(1,power):\n",
    "#             product *= self\n",
    "#         return product\n",
    "        return self.pow_mod(base=self, exp=power, p=self.poly, b=Polynomial(0b1, self.poly))\n",
    "\n",
    "    def __mod__(self, other: IrreducablePolynomial):\n",
    "        ''' other is an irreducable polynomial'''\n",
    "        this = deepcopy(self)\n",
    "        other = deepcopy(other)\n",
    "        #print(f'this: {this}, irreducable: {other}')\n",
    "        while(this.get_degree() >= other.get_degree()):\n",
    "            #print(f'this_degree: {this.get_degree()}, irreducabledeg: {other.get_degree()}')\n",
    "            diff_degree = this.get_degree() - other.get_degree()\n",
    "            #print(f'this: {this}, irreducable: {other}')\n",
    "            #print(f'diff_degree: {diff_degree}')\n",
    "            #print(f'old_val: {this.val}')\n",
    "            #print(f'{bin(this.val)} ^ {bin(other.val<<diff_degree)}')\n",
    "            this.val = this.val ^ (other.val<<diff_degree)\n",
    "            #print(f'new_val: {this.val}\\n')\n",
    "        return Polynomial(this.val, self.poly)\n",
    "    def frobenius(self):\n",
    "        return self**2\n",
    "#     def trace(self):\n",
    "#         tr(8) in F16 = 8 + 8^2 + 8^4 + 8^8\n",
    "#         times = log(self.poly.val, 2)\n",
    "#         times = int(times)-1\n",
    "#         print(times)\n",
    "#         res_sum = self\n",
    "#         result = self\n",
    "#         for i in range(times):\n",
    "#             res_sum += result\n",
    "#             result = result.frobenius()\n",
    "#         return res_sum"
   ]
  },
  {
   "cell_type": "code",
   "execution_count": 8,
   "metadata": {},
   "outputs": [
    {
     "name": "stdout",
     "output_type": "stream",
     "text": [
      "p1-> degree of x^5 +x^2 +x^0 , bin: 0b100101, dec: 37, 5\n",
      "p2-> degree of x^2 , bin: 0b100, dec: 4, 2\n",
      "p1 + p2 = x^3 +x^1 , bin: 0b1010, dec: 10\n"
     ]
    }
   ],
   "source": [
    "# test get_leading and add\n",
    "irred = IrreducablePolynomial(16)\n",
    "p1 = Polynomial(val=0b100101,poly=irred)\n",
    "p2 = Polynomial(val=0b100,poly=irred)\n",
    "print(f'p1-> degree of {p1}, {p1.get_degree()}')\n",
    "print(f'p2-> degree of {p2}, {p2.get_degree()}')\n",
    "print(f'p1 + p2 = {p1 + p2}')"
   ]
  },
  {
   "cell_type": "code",
   "execution_count": 9,
   "metadata": {},
   "outputs": [
    {
     "name": "stdout",
     "output_type": "stream",
     "text": [
      "p1 % irred = x^2 +x^0 , bin: 0b101, dec: 5\n"
     ]
    }
   ],
   "source": [
    "# mod test\n",
    "irred = IrreducablePolynomial(16)\n",
    "p1 = Polynomial(val=0b1111000,poly=irred)\n",
    "#print(f'p1-> degree of {p1}: {p1.get_degree()}')\n",
    "#print(f'p2-> degree of {p2}: {p2.get_degree()}')\n",
    "print(f'p1 % irred = {p1 % p1.poly}')"
   ]
  },
  {
   "cell_type": "code",
   "execution_count": 10,
   "metadata": {},
   "outputs": [
    {
     "name": "stdout",
     "output_type": "stream",
     "text": [
      "p1 * p2 = x^2 +x^0 , bin: 0b101, dec: 5\n"
     ]
    }
   ],
   "source": [
    "# test multiply\n",
    "irred = IrreducablePolynomial(16)\n",
    "p1 = Polynomial(val=0b1000,poly=irred)\n",
    "p2 = Polynomial(val=0b1111,poly=irred)\n",
    "print(f'p1 * p2 = {p1 * p2}')"
   ]
  },
  {
   "cell_type": "code",
   "execution_count": 11,
   "metadata": {},
   "outputs": [
    {
     "name": "stdout",
     "output_type": "stream",
     "text": [
      "<class '__main__.Polynomial'>\n",
      "x^3 +x^2 +x^1 +x^0 , bin: 0b1111, dec: 15\n"
     ]
    }
   ],
   "source": [
    "# test power\n",
    "p1 = Polynomial(val=0b1000,poly=irred)\n",
    "print(p1**2)"
   ]
  },
  {
   "cell_type": "code",
   "execution_count": 12,
   "metadata": {},
   "outputs": [
    {
     "name": "stdout",
     "output_type": "stream",
     "text": [
      "<class '__main__.Polynomial'>\n",
      "i: 2 2^2=4\n",
      "<class '__main__.Polynomial'>\n",
      "i: 3 2^3=8\n",
      "<class '__main__.Polynomial'>\n",
      "i: 4 2^4=9\n",
      "<class '__main__.Polynomial'>\n",
      "i: 5 2^5=11\n",
      "<class '__main__.Polynomial'>\n",
      "i: 6 2^6=15\n",
      "<class '__main__.Polynomial'>\n",
      "i: 7 2^7=7\n",
      "<class '__main__.Polynomial'>\n",
      "i: 8 2^8=14\n",
      "<class '__main__.Polynomial'>\n",
      "i: 9 2^9=5\n",
      "<class '__main__.Polynomial'>\n",
      "i: 10 2^10=10\n",
      "<class '__main__.Polynomial'>\n",
      "i: 11 2^11=13\n",
      "<class '__main__.Polynomial'>\n",
      "i: 12 2^12=3\n",
      "<class '__main__.Polynomial'>\n",
      "i: 13 2^13=6\n",
      "<class '__main__.Polynomial'>\n",
      "i: 14 2^14=12\n",
      "<class '__main__.Polynomial'>\n",
      "i: 15 2^15=1\n"
     ]
    }
   ],
   "source": [
    "# discrete log trick \n",
    "irred = IrreducablePolynomial(16)\n",
    "p1 = Polynomial(val=0b10, poly=irred)\n",
    "for i in range(2,16):\n",
    "    print(f\"i: {i}\", f\"{2}^{i}={(p1**i).val}\")"
   ]
  },
  {
   "cell_type": "code",
   "execution_count": 35,
   "metadata": {},
   "outputs": [
    {
     "name": "stdout",
     "output_type": "stream",
     "text": [
      "x^3 +x^1 +x^0 , bin: 0b1011, dec: 11\n"
     ]
    }
   ],
   "source": [
    "print(p1**80)"
   ]
  },
  {
   "cell_type": "code",
   "execution_count": null,
   "metadata": {},
   "outputs": [],
   "source": []
  }
 ],
 "metadata": {
  "kernelspec": {
   "display_name": "Python 3",
   "language": "python",
   "name": "python3"
  },
  "language_info": {
   "codemirror_mode": {
    "name": "ipython",
    "version": 3
   },
   "file_extension": ".py",
   "mimetype": "text/x-python",
   "name": "python",
   "nbconvert_exporter": "python",
   "pygments_lexer": "ipython3",
   "version": "3.8.3"
  }
 },
 "nbformat": 4,
 "nbformat_minor": 4
}
