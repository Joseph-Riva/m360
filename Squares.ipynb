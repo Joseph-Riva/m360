{
 "cells": [
  {
   "cell_type": "code",
   "execution_count": 18,
   "metadata": {},
   "outputs": [],
   "source": [
    "def print_squares(p):\n",
    "    l = []\n",
    "    for i in range(0, (p-1)//2):\n",
    "        square = pow(i, 2, p)\n",
    "        pos_item = (i, square)\n",
    "        l.append(pos_item)\n",
    "        if i != 0:\n",
    "            neg_item = (p-i, square)\n",
    "            l.append(neg_item)\n",
    "    squares = set([item[1] for item in l])\n",
    "    print(f'squares mod {p}: {squares}\\n')\n",
    "    \n",
    "    square_roots = dict(zip(squares, []*len(squares)))\n",
    "    for num, square in l:\n",
    "        if not square_roots.get(square):\n",
    "            square_roots[square] = []\n",
    "        square_roots[square].append(num)\n",
    "\n",
    "    print('dict mapping squares --> list of square roots')\n",
    "    for square, roots in square_roots.items():\n",
    "        print(f'{square:2}: {roots}')"
   ]
  },
  {
   "cell_type": "code",
   "execution_count": 19,
   "metadata": {},
   "outputs": [
    {
     "name": "stdout",
     "output_type": "stream",
     "text": [
      "squares mod 13: {0, 1, 3, 4, 9, 12}\n",
      "\n",
      "dict mapping squares --> list of square roots\n",
      " 0: [0]\n",
      " 1: [1, 12]\n",
      " 4: [2, 11]\n",
      " 9: [3, 10]\n",
      " 3: [4, 9]\n",
      "12: [5, 8]\n"
     ]
    }
   ],
   "source": [
    "print_squares(13)"
   ]
  },
  {
   "cell_type": "code",
   "execution_count": null,
   "metadata": {},
   "outputs": [],
   "source": []
  }
 ],
 "metadata": {
  "kernelspec": {
   "display_name": "Python 3",
   "language": "python",
   "name": "python3"
  },
  "language_info": {
   "codemirror_mode": {
    "name": "ipython",
    "version": 3
   },
   "file_extension": ".py",
   "mimetype": "text/x-python",
   "name": "python",
   "nbconvert_exporter": "python",
   "pygments_lexer": "ipython3",
   "version": "3.8.6"
  }
 },
 "nbformat": 4,
 "nbformat_minor": 4
}
